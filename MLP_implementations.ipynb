{
  "nbformat": 4,
  "nbformat_minor": 0,
  "metadata": {
    "colab": {
      "provenance": [],
      "authorship_tag": "ABX9TyN3hfPGo3hnna7PU5i1SMYY",
      "include_colab_link": true
    },
    "kernelspec": {
      "name": "python3",
      "display_name": "Python 3"
    },
    "language_info": {
      "name": "python"
    }
  },
  "cells": [
    {
      "cell_type": "markdown",
      "metadata": {
        "id": "view-in-github",
        "colab_type": "text"
      },
      "source": [
        "<a href=\"https://colab.research.google.com/github/ymuto0302/RW2025/blob/main/MLP_implementations.ipynb\" target=\"_parent\"><img src=\"https://colab.research.google.com/assets/colab-badge.svg\" alt=\"Open In Colab\"/></a>"
      ]
    },
    {
      "cell_type": "markdown",
      "source": [
        "# 様々な MLP の実装"
      ],
      "metadata": {
        "id": "olLm8oVzKQfb"
      }
    },
    {
      "cell_type": "markdown",
      "source": [
        "## 隠れ層が固定されている場合の実装\n",
        "`nn.Sequential` を利用した実装である。\n",
        "- メリット： シンプルで理解しやすい\n",
        "- デメリット： 柔軟性に欠ける（異なる構造には使用できない）"
      ],
      "metadata": {
        "id": "DqgPAwTYCk4k"
      }
    },
    {
      "cell_type": "code",
      "execution_count": 11,
      "metadata": {
        "id": "mOdUbEsb4XRK"
      },
      "outputs": [],
      "source": [
        "import torch\n",
        "import torch.nn as nn\n",
        "\n",
        "# MLPモデルの定義\n",
        "class MultiLayerPerceptron(nn.Module):\n",
        "    def __init__(self, input_size, output_size):\n",
        "        super(MultiLayerPerceptron, self).__init__()\n",
        "\n",
        "        # レイヤを順次的に接続する\n",
        "        self.network = nn.Sequential(\n",
        "            # 入力層\n",
        "            nn.Linear(input_size, 100),\n",
        "            # 活性化関数\n",
        "            nn.ReLU(),\n",
        "            # 隠れ層\n",
        "            nn.Linear(100, 50),\n",
        "            # 活性化関数\n",
        "            nn.ReLU(),\n",
        "            # 出力レイヤ\n",
        "            nn.Linear(50, output_size)\n",
        "        )\n",
        "\n",
        "    def forward(self, x):\n",
        "        return self.network(x)\n"
      ]
    },
    {
      "cell_type": "markdown",
      "source": [
        "## 各層を柔軟に制御したい場合の実装\n",
        "`__init()__` では各層の定義のみ行い，`forward()` で各層の処理を行う実装である。\n",
        "- メリット： 隠れ層や ReLU関数からの出力を確認しやすい ／ `forward()` 内で複雑な処理を追加可能\n",
        "- デメリット： 層数が増えると記述量も増える"
      ],
      "metadata": {
        "id": "poqdzUp1DRhE"
      }
    },
    {
      "cell_type": "code",
      "source": [
        "import torch\n",
        "import torch.nn as nn\n",
        "import torch.nn.functional as F # ReLU活性化関数のため\n",
        "\n",
        "# MLPモデルの定義\n",
        "class MultiLayerPerceptron(nn.Module):\n",
        "    def __init__(self, input_size, output_size):\n",
        "        super(MultiLayerPerceptron, self).__init__()\n",
        "\n",
        "        # 第１層目：入力層から第１隠れ層への全結合層\n",
        "        self.fc1 = nn.Linear(input_size, 100)\n",
        "        # 第2層目：第1隠れ層から第2隠れ層への全結合層\n",
        "        self.fc2 = nn.Linear(100, 50)\n",
        "        # 第3層目：第2隠れ層から出力層への全結合層\n",
        "        self.fc3 = nn.Linear(50, output_size)\n",
        "\n",
        "    def forward(self, x):\n",
        "        # 第１層：入力を第１隠れ層に通し，ReLU活性化を適用\n",
        "        x = F.relu(self.fc1(x))\n",
        "        # 第2層：第１隠れ層の出力を第2隠れ層に通し，ReLU活性化を適用\n",
        "        x = F.relu(self.fc2(x))\n",
        "        # 第3層：第2隠れ層の出y録を最終出力へ変換\n",
        "        x = self.fc3(x)\n",
        "\n",
        "        return x\n"
      ],
      "metadata": {
        "id": "tonDXVru6e6X"
      },
      "execution_count": 33,
      "outputs": []
    },
    {
      "cell_type": "markdown",
      "source": [
        "## 動的構造に対応したい場合の実装\n",
        "引数で受け取ったパラメータに基づいて，`__init()__` 内でネットワーク構造を構築する実装である。\n",
        "- メリット： 隠れ層について，任意の層数やサイズ対応できる ／ 構造を動的に変更可能なため，ハイパーパラメータ最適に利用できる\n",
        "- デメリット： 初学者には分かりにくい"
      ],
      "metadata": {
        "id": "OPzsTMq_D65b"
      }
    },
    {
      "cell_type": "code",
      "source": [
        "import torch\n",
        "import torch.nn as nn\n",
        "\n",
        "# MLPモデルの定義\n",
        "class MultiLayerPerceptron(nn.Module):\n",
        "    def __init__(self, input_size, output_size, hidden_layer_sizes=(10,)):\n",
        "        super(MultiLayerPerceptron, self).__init__()\n",
        "\n",
        "        # ネットワークの各層を格納するModuleListを初期化\n",
        "        layers = nn.ModuleList()\n",
        "\n",
        "        # 各層のサイズを決定するリストを作成\n",
        "        layer_sizes = [input_size] + list(hidden_layer_sizes) + [output_size]\n",
        "\n",
        "        # 隣接する層間の線形変換(nn.Linear)と活性化関数(nn.ReLU)を順次追加\n",
        "        for i in range(len(layer_sizes) - 1):\n",
        "            layers.append(nn.Linear(layer_sizes[i], layer_sizes[i+1]))\n",
        "            # 出力層（最後の層）以外は活性化関数を追加\n",
        "            if i < len(layer_sizes) - 2:\n",
        "                layers.append(nn.ReLU())\n",
        "\n",
        "        # ModuleList から nn.Sequential に変換\n",
        "        self.network = nn.Sequential(*layers)\n",
        "\n",
        "    def forward(self, x):\n",
        "        return self.network(x)\n"
      ],
      "metadata": {
        "id": "Y7srh-0n7qMK"
      },
      "execution_count": 1,
      "outputs": []
    },
    {
      "cell_type": "markdown",
      "source": [
        "さらに活性化関数も指定したい場合，次のコードとなる。"
      ],
      "metadata": {
        "id": "sExlCtcvI-k0"
      }
    },
    {
      "cell_type": "code",
      "source": [
        "import torch\n",
        "import torch.nn as nn\n",
        "\n",
        "# MLPモデルの定義\n",
        "class MultiLayerPerceptron(nn.Module):\n",
        "    def __init__(self, input_size, output_size, hidden_layer_sizes=(10,), activation='relu'):\n",
        "        super(MultiLayerPerceptron, self).__init__()\n",
        "\n",
        "        # 活性化関数のリスト\n",
        "        activate_functions = {\n",
        "            'relu': nn.ReLU(),\n",
        "            'sigmoid': nn.Sigmoid(),\n",
        "            'tanh': nn.Tanh(),\n",
        "            'leaky_relu': nn.LeakyReLU(),\n",
        "            'elu': nn.ELU()\n",
        "        }\n",
        "\n",
        "        # ネットワークの各層を格納するModuleListを初期化\n",
        "        layers = nn.ModuleList()\n",
        "\n",
        "        # 各層のサイズを決定するリストを作成\n",
        "        layer_sizes = [input_size] + list(hidden_layer_sizes) + [output_size]\n",
        "\n",
        "        # 隣接する層間の線形変換(nn.Linear)と活性化関数(nn.ReLU)を順次追加\n",
        "        for i in range(len(layer_sizes) - 1):\n",
        "            layers.append(nn.Linear(layer_sizes[i], layer_sizes[i+1]))\n",
        "            # 出力層（最後の層）以外は活性化関数を追加\n",
        "            if i < len(layer_sizes) - 2:\n",
        "                layers.append(activate_functions[activation])\n",
        "\n",
        "        # ModuleList から nn.Sequential に変換\n",
        "        self.network = nn.Sequential(*layers)\n",
        "\n",
        "    def forward(self, x):\n",
        "        return self.network(x)\n"
      ],
      "metadata": {
        "id": "RlhdOFvbHocN"
      },
      "execution_count": 7,
      "outputs": []
    },
    {
      "cell_type": "markdown",
      "source": [
        "---\n",
        "## 上記クラスの動作チェックのためのコード"
      ],
      "metadata": {
        "id": "ycHqIIrgExGO"
      }
    },
    {
      "cell_type": "code",
      "source": [
        "# 構造固定版\n",
        "# mlp = MultiLayerPerceptron(2, 3)\n",
        "\n",
        "# 動的構造対応版 (activate function 指定なし)\n",
        "# mlp = MultiLayerPerceptron(2, 3, hidden_layer_sizes=(10,5))\n",
        "\n",
        "# 動的構造対応版 (activate function 指定あり)\n",
        "mlp = MultiLayerPerceptron(2, 3, hidden_layer_sizes=(10,5), activation='sigmoid')\n",
        "\n",
        "mlp"
      ],
      "metadata": {
        "colab": {
          "base_uri": "https://localhost:8080/"
        },
        "id": "LWzpCA-b5Wgs",
        "outputId": "7e1d9b1d-edbf-481a-f31a-4c33d1a6a0ea"
      },
      "execution_count": 8,
      "outputs": [
        {
          "output_type": "execute_result",
          "data": {
            "text/plain": [
              "MultiLayerPerceptron(\n",
              "  (network): Sequential(\n",
              "    (0): Linear(in_features=2, out_features=10, bias=True)\n",
              "    (1): Sigmoid()\n",
              "    (2): Linear(in_features=10, out_features=5, bias=True)\n",
              "    (3): Sigmoid()\n",
              "    (4): Linear(in_features=5, out_features=3, bias=True)\n",
              "  )\n",
              ")"
            ]
          },
          "metadata": {},
          "execution_count": 8
        }
      ]
    },
    {
      "cell_type": "code",
      "source": [
        "x = torch.randn(10, 2) # batch size 10, input_size 2\n",
        "# x = x.unsqueeze(0)\n",
        "x.size()"
      ],
      "metadata": {
        "colab": {
          "base_uri": "https://localhost:8080/"
        },
        "id": "kdWEnn7V4hgz",
        "outputId": "23e6bf0e-0630-49e3-a7ee-f6c0a6a2531b"
      },
      "execution_count": 9,
      "outputs": [
        {
          "output_type": "execute_result",
          "data": {
            "text/plain": [
              "torch.Size([10, 2])"
            ]
          },
          "metadata": {},
          "execution_count": 9
        }
      ]
    },
    {
      "cell_type": "code",
      "source": [
        "mlp(x)"
      ],
      "metadata": {
        "colab": {
          "base_uri": "https://localhost:8080/"
        },
        "id": "EOEBKIVS4-6J",
        "outputId": "2fa5191a-99bb-4f16-f9c0-056598561d8f"
      },
      "execution_count": 10,
      "outputs": [
        {
          "output_type": "execute_result",
          "data": {
            "text/plain": [
              "tensor([[-0.3889,  0.1982, -0.3532],\n",
              "        [-0.3871,  0.1977, -0.3531],\n",
              "        [-0.3781,  0.1839, -0.3583],\n",
              "        [-0.3935,  0.2060, -0.3498],\n",
              "        [-0.3661,  0.1684, -0.3641],\n",
              "        [-0.4048,  0.2224, -0.3431],\n",
              "        [-0.3796,  0.1856, -0.3577],\n",
              "        [-0.3751,  0.1795, -0.3598],\n",
              "        [-0.3770,  0.1837, -0.3586],\n",
              "        [-0.4012,  0.2160, -0.3458]], grad_fn=<AddmmBackward0>)"
            ]
          },
          "metadata": {},
          "execution_count": 10
        }
      ]
    },
    {
      "cell_type": "code",
      "source": [],
      "metadata": {
        "id": "QkvPou5z6bEv"
      },
      "execution_count": null,
      "outputs": []
    }
  ]
}