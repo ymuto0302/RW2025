{
  "nbformat": 4,
  "nbformat_minor": 0,
  "metadata": {
    "colab": {
      "provenance": [],
      "authorship_tag": "ABX9TyOkRRzwBtP3+gjz222bDq2D",
      "include_colab_link": true
    },
    "kernelspec": {
      "name": "python3",
      "display_name": "Python 3"
    },
    "language_info": {
      "name": "python"
    }
  },
  "cells": [
    {
      "cell_type": "markdown",
      "metadata": {
        "id": "view-in-github",
        "colab_type": "text"
      },
      "source": [
        "<a href=\"https://colab.research.google.com/github/ymuto0302/RW2025/blob/main/MLP_pytorch_dataset_dataloader.ipynb\" target=\"_parent\"><img src=\"https://colab.research.google.com/assets/colab-badge.svg\" alt=\"Open In Colab\"/></a>"
      ]
    },
    {
      "cell_type": "markdown",
      "source": [
        "# PyTorch を用いた MLP の実装\n",
        "PyTorch にはミニバッチ学習を効率的に実装するため，Dataset と Dataloader を使用する実装がある。"
      ],
      "metadata": {
        "id": "ip-DtkiXE6Qi"
      }
    },
    {
      "cell_type": "markdown",
      "source": [
        "## ライブラリのインポート"
      ],
      "metadata": {
        "id": "WX_y1sf5HEex"
      }
    },
    {
      "cell_type": "code",
      "source": [
        "import torch\n",
        "import torch.nn as nn\n",
        "import torch.optim as optim\n",
        "from torch.utils.data import Dataset, DataLoader, random_split\n",
        "import numpy as np\n",
        "import matplotlib.pyplot as plt\n",
        "from sklearn.datasets import load_digits\n",
        "from sklearn.preprocessing import StandardScaler"
      ],
      "metadata": {
        "id": "ovATkXi6HI2p"
      },
      "execution_count": null,
      "outputs": []
    },
    {
      "cell_type": "markdown",
      "source": [
        "## データセットの定義とその利用"
      ],
      "metadata": {
        "id": "Gp4ODoLeHNLW"
      }
    },
    {
      "cell_type": "code",
      "source": [
        "# カスタムDatasetクラスの定義\n",
        "class DigitsDataset(Dataset):\n",
        "    def __init__(self, X, y):\n",
        "        self.X = torch.FloatTensor(X)\n",
        "        self.y = torch.LongTensor(y)\n",
        "\n",
        "    def __len__(self):\n",
        "        return len(self.X)\n",
        "\n",
        "    def __getitem__(self, idx):\n",
        "        return self.X[idx], self.y[idx]\n",
        "\n",
        "# データの準備: 手書き数字データセット MNIST を用いる\n",
        "def prepare_data(device='cpu'):\n",
        "    # 手書き数字データセットの読み込み\n",
        "    digits = load_digits()\n",
        "    X, y = digits.data, digits.target\n",
        "\n",
        "    # データの標準化\n",
        "    scaler = StandardScaler()\n",
        "    X = scaler.fit_transform(X)\n",
        "\n",
        "    # カスタムDatasetを作成\n",
        "    dataset = DigitsDataset(X, y)\n",
        "\n",
        "    # 訓練用とテスト用に分割 (8:2の比率)\n",
        "    n_train = int(0.8 * len(dataset))\n",
        "    n_test = len(dataset) - n_train\n",
        "    train_dataset, test_dataset = random_split(dataset, [n_train, n_test])\n",
        "\n",
        "    return train_dataset, test_dataset"
      ],
      "metadata": {
        "id": "FUtFmCOsHPzJ"
      },
      "execution_count": null,
      "outputs": []
    },
    {
      "cell_type": "markdown",
      "source": [
        "## モデルの定義"
      ],
      "metadata": {
        "id": "mBVW5OqxHk0D"
      }
    },
    {
      "cell_type": "code",
      "source": [
        "# MLPモデルの定義\n",
        "class MLP(nn.Module):\n",
        "    def __init__(self, input_size, output_size):\n",
        "        super(MLP, self).__init__()\n",
        "\n",
        "        self.network = nn.Sequential(\n",
        "            nn.Linear(input_size, 32),\n",
        "            nn.ReLU(),\n",
        "            nn.Linear(32,  16),\n",
        "            nn.ReLU(),\n",
        "            nn.Linear(16, output_size))\n",
        "\n",
        "    def forward(self, x):\n",
        "        return self.network(x)"
      ],
      "metadata": {
        "id": "Buz1GpNZHoX_"
      },
      "execution_count": null,
      "outputs": []
    },
    {
      "cell_type": "markdown",
      "source": [
        "### モデルの学習"
      ],
      "metadata": {
        "id": "Jtnt7Oh8HseV"
      }
    },
    {
      "cell_type": "code",
      "source": [
        "# モデルを学習するための関数\n",
        "def train_model(model, train_loader, test_loader, device, epochs=100):\n",
        "    # 損失関数とオプティマイザー\n",
        "    criterion = nn.CrossEntropyLoss()\n",
        "    optimizer = optim.Adam(model.parameters(), lr=0.0001)\n",
        "\n",
        "    # 学習履歴を保存\n",
        "    train_losses = []\n",
        "    test_accuracies = []\n",
        "\n",
        "    for epoch in range(epochs):\n",
        "        model.train()\n",
        "        epoch_loss = 0.0\n",
        "        n_batches = 0\n",
        "\n",
        "        # DataLoaderを使用したミニバッチ学習\n",
        "        for batch_X, batch_y in train_loader:\n",
        "            # データをデバイスに移動\n",
        "            batch_X = batch_X.to(device)\n",
        "            batch_y = batch_y.to(device)\n",
        "\n",
        "            # 勾配の初期化\n",
        "            optimizer.zero_grad()\n",
        "\n",
        "            # 順伝播\n",
        "            outputs = model(batch_X)\n",
        "            loss = criterion(outputs, batch_y)\n",
        "\n",
        "            # 逆伝播\n",
        "            loss.backward()\n",
        "            optimizer.step()\n",
        "\n",
        "            # 損失の累積\n",
        "            epoch_loss += loss.item()\n",
        "            n_batches += 1\n",
        "\n",
        "        # エポックごとの平均損失を記録\n",
        "        avg_loss = epoch_loss / n_batches\n",
        "        train_losses.append(avg_loss)\n",
        "\n",
        "        # テストデータでの精度評価\n",
        "        model.eval()\n",
        "        correct = 0\n",
        "        total = 0\n",
        "\n",
        "        with torch.no_grad():\n",
        "            for batch_X, batch_y in test_loader:\n",
        "                # データをデバイスに移動\n",
        "                batch_X = batch_X.to(device)\n",
        "                batch_y = batch_y.to(device)\n",
        "\n",
        "                # 予測\n",
        "                test_outputs = model(batch_X)\n",
        "                # 確率最大のクラスを取り出す\n",
        "                _, predicted = torch.max(test_outputs.data, 1)\n",
        "                # 正解数の累積\n",
        "                total += batch_y.size(0)\n",
        "                correct += (predicted == batch_y).sum().item()\n",
        "\n",
        "        # 正解率を求める\n",
        "        accuracy = correct / total\n",
        "        test_accuracies.append(accuracy)\n",
        "\n",
        "        # 進捗表示\n",
        "        if (epoch + 1) % 20 == 0:\n",
        "            print(f'Epoch [{epoch+1}/{epochs}], Loss: {avg_loss:.4f}, Test Accuracy: {accuracy:.4f}')\n",
        "\n",
        "    return train_losses, test_accuracies"
      ],
      "metadata": {
        "id": "f3xToIysHvGU"
      },
      "execution_count": null,
      "outputs": []
    },
    {
      "cell_type": "code",
      "source": [
        "# 最終的な性能評価を行う関数\n",
        "def evaluate_model(model, data_loader, device):\n",
        "    model.eval()\n",
        "    correct = 0\n",
        "    total = 0\n",
        "\n",
        "    with torch.no_grad():\n",
        "        for batch_X, batch_y in data_loader:\n",
        "            batch_X = batch_X.to(device)\n",
        "            batch_y = batch_y.to(device)\n",
        "\n",
        "            outputs = model(batch_X)\n",
        "            _, predicted = torch.max(outputs.data, 1)\n",
        "            total += batch_y.size(0)\n",
        "            correct += (predicted == batch_y).sum().item()\n",
        "\n",
        "    accuracy = correct / total\n",
        "    return accuracy"
      ],
      "metadata": {
        "id": "4AYiwvJyIDJq"
      },
      "execution_count": null,
      "outputs": []
    },
    {
      "cell_type": "code",
      "source": [
        "\n",
        "# メイン実行部分\n",
        "if __name__ == \"__main__\":\n",
        "    # デバイス設定\n",
        "    # GPU が利用可能場合，GPU を利用する\n",
        "    device = torch.device('cuda' if torch.cuda.is_available() else 'cpu')\n",
        "    print(f\"使用デバイス: {device}\")\n",
        "\n",
        "    # データの準備\n",
        "    print(\"データを準備中...\")\n",
        "    train_dataset, test_dataset = prepare_data(device)\n",
        "    print(f\"訓練データ: {len(train_dataset)}サンプル, テストデータ: {len(test_dataset)}サンプル\")\n",
        "\n",
        "    # DataLoaderの作成\n",
        "    batch_size = 32\n",
        "    train_loader = DataLoader(train_dataset, batch_size=batch_size, shuffle=True)\n",
        "    test_loader = DataLoader(test_dataset, batch_size=batch_size, shuffle=False)\n",
        "\n",
        "    # モデルの作成\n",
        "    input_size = 64  # load_digitsの特徴量数は64\n",
        "    output_size = 10  # クラス数\n",
        "\n",
        "    model = MLP(input_size, output_size)\n",
        "    model = model.to(device)\n",
        "    print(f\"\\nモデル構造:\\n{model}\")\n",
        "\n",
        "    # モデルの学習\n",
        "    print(\"\\nモデルを学習中...\")\n",
        "    train_losses, test_accuracies = train_model(\n",
        "        model, train_loader, test_loader, device,\n",
        "        epochs=200\n",
        "    )\n",
        "\n",
        "    # 最終的な性能評価\n",
        "    train_accuracy = evaluate_model(model, train_loader, device)\n",
        "    test_accuracy = evaluate_model(model, test_loader, device)\n",
        "\n",
        "    print(f\"\\n最終結果:\")\n",
        "    print(f\"訓練データに対する正解率: {train_accuracy:.4f}\")\n",
        "    print(f\"テストデータに対する正解率: {test_accuracy:.4f}\")"
      ],
      "metadata": {
        "colab": {
          "base_uri": "https://localhost:8080/"
        },
        "id": "kHo9uKJSEoqq",
        "outputId": "eeaf9b69-3923-4d09-baf7-b5440e69ae95"
      },
      "execution_count": null,
      "outputs": [
        {
          "output_type": "stream",
          "name": "stdout",
          "text": [
            "使用デバイス: cpu\n",
            "データを準備中...\n",
            "訓練データ: 1437サンプル, テストデータ: 360サンプル\n",
            "\n",
            "モデル構造:\n",
            "MLP(\n",
            "  (network): Sequential(\n",
            "    (0): Linear(in_features=64, out_features=32, bias=True)\n",
            "    (1): ReLU()\n",
            "    (2): Linear(in_features=32, out_features=16, bias=True)\n",
            "    (3): ReLU()\n",
            "    (4): Linear(in_features=16, out_features=10, bias=True)\n",
            "  )\n",
            ")\n",
            "\n",
            "モデルを学習中...\n",
            "Epoch [20/200], Loss: 1.3120, Test Accuracy: 0.5611\n",
            "Epoch [40/200], Loss: 0.6034, Test Accuracy: 0.8417\n",
            "Epoch [60/200], Loss: 0.2968, Test Accuracy: 0.9167\n",
            "Epoch [80/200], Loss: 0.1694, Test Accuracy: 0.9278\n",
            "Epoch [100/200], Loss: 0.1106, Test Accuracy: 0.9583\n",
            "Epoch [120/200], Loss: 0.0769, Test Accuracy: 0.9694\n",
            "Epoch [140/200], Loss: 0.0549, Test Accuracy: 0.9722\n",
            "Epoch [160/200], Loss: 0.0398, Test Accuracy: 0.9722\n",
            "Epoch [180/200], Loss: 0.0290, Test Accuracy: 0.9722\n",
            "Epoch [200/200], Loss: 0.0210, Test Accuracy: 0.9722\n",
            "\n",
            "最終結果:\n",
            "訓練データに対する正解率: 0.9986\n",
            "テストデータに対する正解率: 0.9722\n"
          ]
        }
      ]
    },
    {
      "cell_type": "markdown",
      "source": [
        "## 学習履歴の可視化"
      ],
      "metadata": {
        "id": "kzJrMZZImVnO"
      }
    },
    {
      "cell_type": "code",
      "source": [
        "# 可視化関数\n",
        "def plot_training_history(train_losses, test_accuracies):\n",
        "    fig, (ax1, ax2) = plt.subplots(1, 2, figsize=(12, 4))\n",
        "\n",
        "    # 損失の推移\n",
        "    ax1.plot(train_losses)\n",
        "    ax1.set_title('Training Loss')\n",
        "    ax1.set_xlabel('Epoch')\n",
        "    ax1.set_ylabel('Loss')\n",
        "    ax1.grid(True)\n",
        "\n",
        "    # テスト精度の推移\n",
        "    ax2.plot(test_accuracies)\n",
        "    ax2.set_title('Test Accuracy')\n",
        "    ax2.set_xlabel('Epoch')\n",
        "    ax2.set_ylabel('Accuracy')\n",
        "    ax2.grid(True)\n",
        "\n",
        "    plt.tight_layout()\n",
        "    plt.show()\n",
        "\n",
        "# 学習履歴の可視化\n",
        "plot_training_history(train_losses, test_accuracies)"
      ],
      "metadata": {
        "colab": {
          "base_uri": "https://localhost:8080/",
          "height": 292
        },
        "id": "AaZbjpSGfp30",
        "outputId": "f6809259-1584-426b-ebd0-304f34dc5bc2"
      },
      "execution_count": null,
      "outputs": [
        {
          "output_type": "display_data",
          "data": {
            "text/plain": [
              "<Figure size 1200x400 with 2 Axes>"
            ],
            "image/png": "[encoded data removed]"
          },
          "metadata": {}
        }
      ]
    },
    {
      "cell_type": "code",
      "source": [],
      "metadata": {
        "id": "fyNAr87CmR3b"
      },
      "execution_count": null,
      "outputs": []
    }
  ]
}