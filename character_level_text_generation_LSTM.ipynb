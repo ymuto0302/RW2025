{
  "nbformat": 4,
  "nbformat_minor": 0,
  "metadata": {
    "colab": {
      "provenance": [],
      "gpuType": "T4",
      "authorship_tag": "ABX9TyM1JbYKzOSUOBBBmh6IfgUL",
      "include_colab_link": true
    },
    "kernelspec": {
      "name": "python3",
      "display_name": "Python 3"
    },
    "language_info": {
      "name": "python"
    },
    "accelerator": "GPU"
  },
  "cells": [
    {
      "cell_type": "markdown",
      "metadata": {
        "id": "view-in-github",
        "colab_type": "text"
      },
      "source": [
        "<a href=\"https://colab.research.google.com/github/ymuto0302/RW2025/blob/main/character_level_text_generation_LSTM.ipynb\" target=\"_parent\"><img src=\"https://colab.research.google.com/assets/colab-badge.svg\" alt=\"Open In Colab\"/></a>"
      ]
    },
    {
      "cell_type": "markdown",
      "source": [
        "# LSTMを用いた文字レベルテキスト生成\n",
        "青空文庫から夏目漱石の「こころ」をダウンロードし，LSTMを用いた文字レベル文章生成モデルを構築する。\n",
        "\n",
        "大まかな処理の流れは次のとおり：\n",
        "1. 青空文庫からテキストをダウンロード\n",
        "1. データセットを作成し訓練/検証に分割\n",
        "1. LSTMモデルを訓練\n",
        "1. 損失とPerplexityのグラフを表示\n",
        "1. サンプルテキストを生成\n",
        "\n",
        "カスタマイズ可能なハイパーパラメータは次のとおり：\n",
        "- `sequence_length`: 入力シーケンス長（デフォルト100）\n",
        "- `embedding_dim`: 埋め込み次元（デフォルト128）\n",
        "- `hidden_dim`: LSTM隠れ状態次元（デフォルト256）\n",
        "- `num_layers`: LSTM層数（デフォルト2）\n",
        "- `dropout`: ドロップアウト率（デフォルト0.3）\n",
        "- `batch_size`: バッチサイズ（デフォルト64）\n",
        "- `learning_rate`: 学習率（デフォルト0.001）\n",
        "\n",
        "なお，本コードの実行にあたってはGPU必須である。"
      ],
      "metadata": {
        "id": "YJ9i6eqsMBv_"
      }
    },
    {
      "cell_type": "markdown",
      "source": [
        "## 必要なライブラリのインポート"
      ],
      "metadata": {
        "id": "tNj7uYQzNwxp"
      }
    },
    {
      "cell_type": "code",
      "source": [
        "import torch\n",
        "import torch.nn as nn\n",
        "import torch.optim as optim\n",
        "from torch.utils.data import Dataset, DataLoader\n",
        "import numpy as np\n",
        "import requests\n",
        "import re\n",
        "import math\n",
        "from collections import Counter\n",
        "import matplotlib.pyplot as plt\n",
        "from tqdm import tqdm\n",
        "\n",
        "# デバイスの設定\n",
        "device = torch.device('cuda' if torch.cuda.is_available() else 'cpu')\n",
        "print(f\"使用デバイス: {device}\")"
      ],
      "metadata": {
        "colab": {
          "base_uri": "https://localhost:8080/"
        },
        "id": "m9PB9G3GN0FZ",
        "outputId": "7f5323c9-9eb4-4c6a-876e-d8af4d6ee3b4"
      },
      "execution_count": null,
      "outputs": [
        {
          "output_type": "stream",
          "name": "stdout",
          "text": [
            "使用デバイス: cuda\n"
          ]
        }
      ]
    },
    {
      "cell_type": "markdown",
      "source": [
        "## データセットの定義\n",
        "テキストを固定長シーケンスで切り出し（スライディングウィンドウ方式），文脈（＝過去の文字列）から次の１文字を予測するというタスクをこなす。"
      ],
      "metadata": {
        "id": "3WULyNX8VS81"
      }
    },
    {
      "cell_type": "code",
      "source": [
        "# 文字レベルのテキストデータセット\n",
        "class TextDataset(Dataset):\n",
        "    def __init__(self, text, sequence_length=100):\n",
        "        self.sequence_length = sequence_length\n",
        "\n",
        "        # 文字の集合を作成\n",
        "        self.chars = sorted(list(set(text))) # テキスト内の全ての文字を重複なしで抽出\n",
        "        self.char_to_idx = {char: i for i, char in enumerate(self.chars)} # 文字 → 数値の変換辞書\n",
        "        self.idx_to_char = {i: char for i, char in enumerate(self.chars)} # 数値 → 文字の変換辞書\n",
        "        self.vocab_size = len(self.chars)\n",
        "\n",
        "        # テキストの数値化\n",
        "        self.data = [self.char_to_idx[char] for char in text]\n",
        "        print(f\"語彙数: {self.vocab_size}\")\n",
        "        print(f\"データ長: {len(self.data)}\")\n",
        "\n",
        "    def __len__(self):\n",
        "        return len(self.data) - self.sequence_length\n",
        "\n",
        "    def __getitem__(self, idx):\n",
        "        # 入力シーケンス\n",
        "        input_seq = self.data[idx:idx + self.sequence_length]\n",
        "        # ターゲット（次の文字）\n",
        "        target = self.data[idx + self.sequence_length]\n",
        "\n",
        "        return torch.tensor(input_seq, dtype=torch.long), torch.tensor(target, dtype=torch.long)\n",
        "\n",
        "# TextDataset クラスの動作チェック\n",
        "test_text = \"こんにちは\"\n",
        "sequence_length = 3\n",
        "dataset = TextDataset(test_text, sequence_length)\n",
        "for i in range(len(dataset)):\n",
        "    input_seq, target = dataset[i]\n",
        "\n",
        "    # 数値を文字に戻して表示\n",
        "    input_chars = [dataset.idx_to_char[idx.item()] for idx in input_seq]\n",
        "    target_char = dataset.idx_to_char[target.item()]\n",
        "\n",
        "    print(f\"インデックス {i}:\")\n",
        "    print(f\"  入力シーケンス: {input_chars} → {''.join(input_chars)}\")\n",
        "    print(f\"  ターゲット: '{target_char}'\")\n",
        "    print(f\"  数値データ: 入力={input_seq.tolist()}, ターゲット={target.item()}\")\n",
        "    print()\n"
      ],
      "metadata": {
        "colab": {
          "base_uri": "https://localhost:8080/"
        },
        "id": "77a7kmIhN8ta",
        "outputId": "98ded9ff-3158-4bf7-ce56-04ca827108c9"
      },
      "execution_count": null,
      "outputs": [
        {
          "output_type": "stream",
          "name": "stdout",
          "text": [
            "語彙数: 5\n",
            "データ長: 5\n",
            "インデックス 0:\n",
            "  入力シーケンス: ['こ', 'ん', 'に'] → こんに\n",
            "  ターゲット: 'ち'\n",
            "  数値データ: 入力=[0, 4, 2], ターゲット=1\n",
            "\n",
            "インデックス 1:\n",
            "  入力シーケンス: ['ん', 'に', 'ち'] → んにち\n",
            "  ターゲット: 'は'\n",
            "  数値データ: 入力=[4, 2, 1], ターゲット=3\n",
            "\n"
          ]
        }
      ]
    },
    {
      "cell_type": "markdown",
      "source": [
        "## 文章生成モデル\n",
        "このコードは，LSTMを使用した文字レベルの日本語テキスト生成システムを提供する。学習データから文字の連続パターンを覚えることで，与えられた開始文字列から自然な続きの文章を生成する。"
      ],
      "metadata": {
        "id": "EimXYOyAOCMr"
      }
    },
    {
      "cell_type": "code",
      "source": [
        "# 文章生成モデル\n",
        "class LSTMTextGenerator(nn.Module):\n",
        "    def __init__(self, vocab_size, embedding_dim=128, hidden_dim=256, num_layers=2, dropout=0.3):\n",
        "        super(LSTMTextGenerator, self).__init__()\n",
        "\n",
        "        self.vocab_size = vocab_size                   # 語彙サイズ（文字の種類数）\n",
        "        self.embedding_dim = embedding_dim # 埋め込みベクトルの次元数\n",
        "        self.hidden_dim = hidden_dim                # LSTM隠れ状態の次元数\n",
        "        self.num_layers = num_layers                  # LSTMの層数\n",
        "\n",
        "        # 埋め込み層：文字のインデックスを密なベクトルに変換\n",
        "        self.embedding = nn.Embedding(vocab_size, embedding_dim)\n",
        "\n",
        "        # LSTM層\n",
        "        self.lstm = nn.LSTM(embedding_dim, hidden_dim, num_layers,\n",
        "                           batch_first=True,\n",
        "                            dropout=dropout if num_layers > 1 else 0)\n",
        "\n",
        "        # ドロップアウト\n",
        "        self.dropout = nn.Dropout(dropout)\n",
        "\n",
        "        # 出力層：LSTMからの出力を語彙サイズの確率分布に変換\n",
        "        self.fc = nn.Linear(hidden_dim, vocab_size)\n",
        "\n",
        "    def forward(self, x, hidden=None):\n",
        "        # 埋め込み\n",
        "        embedded = self.embedding(x)  # shape=(batch, seq_len, embedding_dim)\n",
        "\n",
        "        # LSTM\n",
        "        lstm_out, hidden = self.lstm(embedded, hidden)  # shape=(batch, seq_len, hidden_dim)\n",
        "\n",
        "        # ドロップアウト\n",
        "        lstm_out = self.dropout(lstm_out)\n",
        "\n",
        "        # 最後の時刻の出力を使用\n",
        "        output = self.fc(lstm_out[:, -1, :])  # shape=(batch, vocab_size)\n",
        "\n",
        "        return output, hidden\n",
        "\n",
        "    # 隠れ状態の初期化\n",
        "    def init_hidden(self, batch_size):\n",
        "        h0 = torch.zeros(self.num_layers, batch_size, self.hidden_dim).to(device) # 隠れ状態\n",
        "        c0 = torch.zeros(self.num_layers, batch_size, self.hidden_dim).to(device) # メモリセル状態\n",
        "        return (h0, c0)"
      ],
      "metadata": {
        "id": "WdRM0AxHOEWg"
      },
      "execution_count": null,
      "outputs": []
    },
    {
      "cell_type": "code",
      "source": [
        "# 青空文庫のテキストをダウンロード\n",
        "def load_aozora_text():\n",
        "    # 夏目漱石の「こころ」を使用\n",
        "    url = \"https://www.aozora.gr.jp/cards/000148/files/773_14560.html\"\n",
        "    response = requests.get(url)\n",
        "    response.encoding = 'shift_jis'\n",
        "\n",
        "    # HTMLタグを除去\n",
        "    text = re.sub(r'<[^>]+>', '', response.text)\n",
        "    # 青空文庫の注記を除去\n",
        "    text = re.sub(r'［[^］]*］', '', text)\n",
        "    text = re.sub(r'｜', '', text)\n",
        "    text = re.sub(r'《[^》]*》', '', text)\n",
        "\n",
        "    # 不要な空白・改行を整理\n",
        "    text = re.sub(r'\\n+', '\\n', text)\n",
        "    text = re.sub(r'\\s+', ' ', text)\n",
        "\n",
        "    # 最初と最後の不要部分を除去\n",
        "    start_idx = text.find('　私はその人を常に先生と呼んでいた。')\n",
        "    end_idx = text.find('底本：')\n",
        "\n",
        "    if start_idx != -1 and end_idx != -1:\n",
        "        text = text[start_idx:end_idx]\n",
        "\n",
        "    print(f\"テキスト長: {len(text)}\")\n",
        "    return text\n",
        "\n",
        "# 動作チェック\n",
        "load_aozora_text()[:300]"
      ],
      "metadata": {
        "colab": {
          "base_uri": "https://localhost:8080/",
          "height": 122
        },
        "id": "p4029TKBOPkJ",
        "outputId": "caea0190-c1d5-498d-bf0c-2bfa143a013c"
      },
      "execution_count": null,
      "outputs": [
        {
          "output_type": "stream",
          "name": "stdout",
          "text": [
            "テキスト長: 183615\n"
          ]
        },
        {
          "output_type": "execute_result",
          "data": {
            "text/plain": [
              "' 夏目漱石 こころ こころ 夏目漱石 上 先生と私 一 私（わたくし）はその人を常に先生と呼んでいた。だからここでもただ先生と書くだけで本名は打ち明けない。これは世間を憚（はば）かる遠慮というよりも、その方が私にとって自然だからである。私はその人の記憶を呼び起すごとに、すぐ「先生」といいたくなる。筆を執（と）っても心持は同じ事である。よそよそしい頭文字（かしらもじ）などはとても使う気にならない。 私が先生と知り合いになったのは鎌倉（かまくら）である。その時私はまだ若々しい書生であった。暑中休暇を利用して海水浴に行った友達からぜひ来いという端書（はがき）を受け取ったので、私は多少の金を工面（くめ'"
            ],
            "application/vnd.google.colaboratory.intrinsic+json": {
              "type": "string"
            }
          },
          "metadata": {},
          "execution_count": 16
        }
      ]
    },
    {
      "cell_type": "markdown",
      "source": [
        "## Perplexityの計算\n",
        "言語モデルの性能を評価するための指標 \"Perplexity（困惑度）\" を計算する関数である。\n",
        "- 低いPerplexity = モデルの予測が正確（良い性能）\n",
        "- 高いPerplexity = モデルの予測が不正確（悪い性能）\n",
        "\n",
        "perplexity の定義は $perplexity=\\exp(平均損失)$ である。\n",
        "\n",
        "例えば，語彙サイズが 50文字の場合，perplexity の値は次のように評価される。\n",
        "```\n",
        "perplexity = 50.0  # ランダム予測と同程度（悪い）\n",
        "perplexity = 10.0  # まあまあの性能\n",
        "perplexity = 3.0   # 良い性能\n",
        "perplexity = 1.0   # 完璧な予測（理論上の最小値）\n",
        "```\n",
        "直感的な理解として，perplexity=10.0 の場合，モデルが次の文字を予測するのに，平均10個の候補から迷っている状態にある。"
      ],
      "metadata": {
        "id": "YeKAxOeCOZWo"
      }
    },
    {
      "cell_type": "code",
      "source": [
        "# Perplexityの計算\n",
        "def calculate_perplexity(model, data_loader, criterion):\n",
        "    model.eval()\n",
        "    total_loss = 0\n",
        "    total_samples = 0\n",
        "\n",
        "    with torch.no_grad():\n",
        "        for inputs, targets in data_loader:\n",
        "            inputs, targets = inputs.to(device), targets.to(device)\n",
        "\n",
        "            outputs, _ = model(inputs)\n",
        "            loss = criterion(outputs, targets)\n",
        "\n",
        "            # バッチサイズの違いを考慮し，重み付けする\n",
        "            total_loss += loss.item() * inputs.size(0)\n",
        "            total_samples += inputs.size(0)\n",
        "\n",
        "    avg_loss = total_loss / total_samples # 平均損失\n",
        "    perplexity = math.exp(avg_loss)          # perplexity\n",
        "\n",
        "    return perplexity"
      ],
      "metadata": {
        "id": "evoll0FGOd3A"
      },
      "execution_count": null,
      "outputs": []
    },
    {
      "cell_type": "markdown",
      "source": [
        "## モデルの学習"
      ],
      "metadata": {
        "id": "xnvsJMaHOkP5"
      }
    },
    {
      "cell_type": "code",
      "source": [
        "# モデルの訓練\n",
        "def train_model(model, train_loader, val_loader, num_epochs=50, learning_rate=0.001):\n",
        "    criterion = nn.CrossEntropyLoss()\n",
        "    optimizer = optim.Adam(model.parameters(), lr=learning_rate)\n",
        "    # 学習率スケジューリング：10エポック毎に学習率を0.9倍する\n",
        "    scheduler = optim.lr_scheduler.StepLR(optimizer, step_size=10, gamma=0.9)\n",
        "\n",
        "    train_losses = []\n",
        "    val_perplexities = []\n",
        "\n",
        "    for epoch in range(num_epochs):\n",
        "        model.train() # 訓練モードに設定\n",
        "        epoch_loss = 0\n",
        "\n",
        "        for batch_idx, (inputs, targets) in enumerate(tqdm(train_loader)):\n",
        "            inputs, targets = inputs.to(device), targets.to(device)\n",
        "\n",
        "            optimizer.zero_grad()                    # 勾配リセット\n",
        "            outputs, _ = model(inputs)           # 順伝搬\n",
        "            loss = criterion(outputs, targets)  # 損失計算\n",
        "            loss.backward()                              # 逆伝搬\n",
        "\n",
        "            # 勾配クリッピング（LSTMでは勾配が指数的に増大するケースがあるため）\n",
        "            torch.nn.utils.clip_grad_norm_(model.parameters(), max_norm=1.0)\n",
        "\n",
        "            optimizer.step() # パラメータ更新\n",
        "            epoch_loss += loss.item()\n",
        "\n",
        "            '''\n",
        "            if batch_idx % 100 == 0:\n",
        "                print(f'Epoch [{epoch+1}/{num_epochs}], Batch [{batch_idx}/{len(train_loader)}], Loss: {loss.item():.4f}')\n",
        "            '''\n",
        "\n",
        "        scheduler.step() # 学習率の更新\n",
        "\n",
        "        # 検証\n",
        "        val_perplexity = calculate_perplexity(model, val_loader, criterion)\n",
        "        avg_train_loss = epoch_loss / len(train_loader)\n",
        "\n",
        "        train_losses.append(avg_train_loss)\n",
        "        val_perplexities.append(val_perplexity)\n",
        "\n",
        "        print(f'Epoch [{epoch+1}/{num_epochs}], Train Loss: {avg_train_loss:.4f}, Val Perplexity: {val_perplexity:.4f}')\n",
        "\n",
        "    return train_losses, val_perplexities\n",
        "\n",
        "# 結果の可視化\n",
        "def visualize_training_history(train_losses, val_perplexities):\n",
        "    plt.figure(figsize=(12, 4))\n",
        "\n",
        "    # 訓練データに対する損失\n",
        "    plt.subplot(1, 2, 1)\n",
        "    plt.plot(train_losses)\n",
        "    plt.title('Training Loss')\n",
        "    plt.xlabel('Epoch')\n",
        "    plt.ylabel('Loss')\n",
        "\n",
        "    # 検証データに対する perplexity\n",
        "    plt.subplot(1, 2, 2)\n",
        "    plt.plot(val_perplexities)\n",
        "    plt.title('Validation Perplexity')\n",
        "    plt.xlabel('Epoch')\n",
        "    plt.ylabel('Perplexity')\n",
        "\n",
        "    plt.tight_layout()\n",
        "    plt.show()\n",
        "\n",
        "# === ここからメイン実行部分 ===\n",
        "\n",
        "# データの読み込み\n",
        "print(\"青空文庫のテキストを読み込み中...\")\n",
        "text = load_aozora_text()\n",
        "\n",
        "# データセットの作成\n",
        "print(\"データセットを作成中...\")\n",
        "dataset = TextDataset(text, sequence_length=100)\n",
        "\n",
        "# 訓練・検証用に分割\n",
        "train_size = int(0.8 * len(dataset))\n",
        "val_size = len(dataset) - train_size\n",
        "train_dataset, val_dataset = torch.utils.data.random_split(dataset, [train_size, val_size])\n",
        "\n",
        "# データローダーの作成\n",
        "batch_size = 64\n",
        "train_loader = DataLoader(train_dataset, batch_size=batch_size, shuffle=True)\n",
        "val_loader = DataLoader(val_dataset, batch_size=batch_size, shuffle=False)\n",
        "\n",
        "# モデルの初期化\n",
        "model = LSTMTextGenerator(\n",
        "    vocab_size=dataset.vocab_size,\n",
        "    embedding_dim=128,\n",
        "    hidden_dim=256,\n",
        "    num_layers=2,\n",
        "    dropout=0.3\n",
        ").to(device)\n",
        "\n",
        "print(f\"モデルパラメータ数: {sum(p.numel() for p in model.parameters())}\")\n",
        "\n",
        "# 訓練\n",
        "print(\"訓練開始...\")\n",
        "train_losses, val_perplexities = train_model(model, train_loader, val_loader, num_epochs=20)\n",
        "\n",
        "# 最終的なPerplexityを表示\n",
        "final_perplexity = val_perplexities[-1]\n",
        "print(f\"\\n最終検証Perplexity: {final_perplexity:.4f}\")\n",
        "\n",
        "# 訓練結果の可視化\n",
        "visualize_training_history(train_losses, val_perplexities)\n"
      ],
      "metadata": {
        "colab": {
          "base_uri": "https://localhost:8080/",
          "height": 1000
        },
        "id": "AHKBDOYmOmNo",
        "outputId": "5b261a3f-17fa-48c4-ba9b-a242cd8a58e0"
      },
      "execution_count": null,
      "outputs": [
        {
          "output_type": "stream",
          "name": "stdout",
          "text": [
            "青空文庫のテキストを読み込み中...\n",
            "テキスト長: 183615\n",
            "データセットを作成中...\n",
            "語彙数: 2122\n",
            "データ長: 183615\n",
            "モデルパラメータ数: 1738570\n",
            "訓練開始...\n"
          ]
        },
        {
          "output_type": "stream",
          "name": "stderr",
          "text": [
            "100%|██████████| 2294/2294 [00:47<00:00, 48.31it/s]\n"
          ]
        },
        {
          "output_type": "stream",
          "name": "stdout",
          "text": [
            "Epoch [1/20], Train Loss: 4.0447, Val Perplexity: 33.0705\n"
          ]
        },
        {
          "output_type": "stream",
          "name": "stderr",
          "text": [
            "100%|██████████| 2294/2294 [00:46<00:00, 49.14it/s]\n"
          ]
        },
        {
          "output_type": "stream",
          "name": "stdout",
          "text": [
            "Epoch [2/20], Train Loss: 3.3554, Val Perplexity: 24.8119\n"
          ]
        },
        {
          "output_type": "stream",
          "name": "stderr",
          "text": [
            "100%|██████████| 2294/2294 [00:46<00:00, 49.05it/s]\n"
          ]
        },
        {
          "output_type": "stream",
          "name": "stdout",
          "text": [
            "Epoch [3/20], Train Loss: 3.1082, Val Perplexity: 21.4096\n"
          ]
        },
        {
          "output_type": "stream",
          "name": "stderr",
          "text": [
            "100%|██████████| 2294/2294 [00:46<00:00, 49.66it/s]\n"
          ]
        },
        {
          "output_type": "stream",
          "name": "stdout",
          "text": [
            "Epoch [4/20], Train Loss: 2.9372, Val Perplexity: 19.6936\n"
          ]
        },
        {
          "output_type": "stream",
          "name": "stderr",
          "text": [
            "100%|██████████| 2294/2294 [00:46<00:00, 49.58it/s]\n"
          ]
        },
        {
          "output_type": "stream",
          "name": "stdout",
          "text": [
            "Epoch [5/20], Train Loss: 2.8086, Val Perplexity: 18.7537\n"
          ]
        },
        {
          "output_type": "stream",
          "name": "stderr",
          "text": [
            "100%|██████████| 2294/2294 [00:46<00:00, 49.79it/s]\n"
          ]
        },
        {
          "output_type": "stream",
          "name": "stdout",
          "text": [
            "Epoch [6/20], Train Loss: 2.7096, Val Perplexity: 18.1420\n"
          ]
        },
        {
          "output_type": "stream",
          "name": "stderr",
          "text": [
            "100%|██████████| 2294/2294 [00:46<00:00, 49.87it/s]\n"
          ]
        },
        {
          "output_type": "stream",
          "name": "stdout",
          "text": [
            "Epoch [7/20], Train Loss: 2.6253, Val Perplexity: 17.9134\n"
          ]
        },
        {
          "output_type": "stream",
          "name": "stderr",
          "text": [
            "100%|██████████| 2294/2294 [00:46<00:00, 49.83it/s]\n"
          ]
        },
        {
          "output_type": "stream",
          "name": "stdout",
          "text": [
            "Epoch [8/20], Train Loss: 2.5559, Val Perplexity: 17.6479\n"
          ]
        },
        {
          "output_type": "stream",
          "name": "stderr",
          "text": [
            "100%|██████████| 2294/2294 [00:46<00:00, 49.84it/s]\n"
          ]
        },
        {
          "output_type": "stream",
          "name": "stdout",
          "text": [
            "Epoch [9/20], Train Loss: 2.4944, Val Perplexity: 17.6060\n"
          ]
        },
        {
          "output_type": "stream",
          "name": "stderr",
          "text": [
            "100%|██████████| 2294/2294 [00:46<00:00, 49.63it/s]\n"
          ]
        },
        {
          "output_type": "stream",
          "name": "stdout",
          "text": [
            "Epoch [10/20], Train Loss: 2.4425, Val Perplexity: 17.5473\n"
          ]
        },
        {
          "output_type": "stream",
          "name": "stderr",
          "text": [
            "100%|██████████| 2294/2294 [00:46<00:00, 49.66it/s]\n"
          ]
        },
        {
          "output_type": "stream",
          "name": "stdout",
          "text": [
            "Epoch [11/20], Train Loss: 2.3786, Val Perplexity: 17.4179\n"
          ]
        },
        {
          "output_type": "stream",
          "name": "stderr",
          "text": [
            "100%|██████████| 2294/2294 [00:46<00:00, 49.74it/s]\n"
          ]
        },
        {
          "output_type": "stream",
          "name": "stdout",
          "text": [
            "Epoch [12/20], Train Loss: 2.3352, Val Perplexity: 17.5026\n"
          ]
        },
        {
          "output_type": "stream",
          "name": "stderr",
          "text": [
            "100%|██████████| 2294/2294 [00:46<00:00, 49.77it/s]\n"
          ]
        },
        {
          "output_type": "stream",
          "name": "stdout",
          "text": [
            "Epoch [13/20], Train Loss: 2.2949, Val Perplexity: 17.5195\n"
          ]
        },
        {
          "output_type": "stream",
          "name": "stderr",
          "text": [
            "100%|██████████| 2294/2294 [00:46<00:00, 49.64it/s]\n"
          ]
        },
        {
          "output_type": "stream",
          "name": "stdout",
          "text": [
            "Epoch [14/20], Train Loss: 2.2548, Val Perplexity: 17.8516\n"
          ]
        },
        {
          "output_type": "stream",
          "name": "stderr",
          "text": [
            "100%|██████████| 2294/2294 [00:46<00:00, 49.61it/s]\n"
          ]
        },
        {
          "output_type": "stream",
          "name": "stdout",
          "text": [
            "Epoch [15/20], Train Loss: 2.2233, Val Perplexity: 18.1774\n"
          ]
        },
        {
          "output_type": "stream",
          "name": "stderr",
          "text": [
            "100%|██████████| 2294/2294 [00:46<00:00, 49.68it/s]\n"
          ]
        },
        {
          "output_type": "stream",
          "name": "stdout",
          "text": [
            "Epoch [16/20], Train Loss: 2.1932, Val Perplexity: 18.3303\n"
          ]
        },
        {
          "output_type": "stream",
          "name": "stderr",
          "text": [
            "100%|██████████| 2294/2294 [00:46<00:00, 49.74it/s]\n"
          ]
        },
        {
          "output_type": "stream",
          "name": "stdout",
          "text": [
            "Epoch [17/20], Train Loss: 2.1652, Val Perplexity: 18.2420\n"
          ]
        },
        {
          "output_type": "stream",
          "name": "stderr",
          "text": [
            "100%|██████████| 2294/2294 [00:46<00:00, 49.82it/s]\n"
          ]
        },
        {
          "output_type": "stream",
          "name": "stdout",
          "text": [
            "Epoch [18/20], Train Loss: 2.1405, Val Perplexity: 18.4478\n"
          ]
        },
        {
          "output_type": "stream",
          "name": "stderr",
          "text": [
            "100%|██████████| 2294/2294 [00:46<00:00, 49.81it/s]\n"
          ]
        },
        {
          "output_type": "stream",
          "name": "stdout",
          "text": [
            "Epoch [19/20], Train Loss: 2.1144, Val Perplexity: 19.0121\n"
          ]
        },
        {
          "output_type": "stream",
          "name": "stderr",
          "text": [
            "100%|██████████| 2294/2294 [00:46<00:00, 49.71it/s]\n"
          ]
        },
        {
          "output_type": "stream",
          "name": "stdout",
          "text": [
            "Epoch [20/20], Train Loss: 2.0922, Val Perplexity: 19.2537\n",
            "\n",
            "最終検証Perplexity: 19.2537\n"
          ]
        },
        {
          "output_type": "display_data",
          "data": {
            "text/plain": [
              "<Figure size 1200x400 with 2 Axes>"
            ],
            "image/png": "[encoded data removed]"
          },
          "metadata": {}
        }
      ]
    },
    {
      "cell_type": "markdown",
      "source": [
        "## テキスト生成"
      ],
      "metadata": {
        "id": "Mivhsrg5P0Yd"
      }
    },
    {
      "cell_type": "code",
      "source": [
        "# テキスト生成\n",
        "def generate_text(model, dataset, seed_text, length=200, temperature=0.8):\n",
        "    model.eval()\n",
        "\n",
        "    # シードテキストを数値化\n",
        "    chars = [dataset.char_to_idx.get(char, 0) for char in seed_text]\n",
        "    input_seq = torch.tensor(chars, dtype=torch.long).unsqueeze(0).to(device)\n",
        "\n",
        "    generated = seed_text\n",
        "    hidden = model.init_hidden(1)\n",
        "\n",
        "    with torch.no_grad():\n",
        "        for _ in range(length):\n",
        "            output, hidden = model(input_seq, hidden)\n",
        "\n",
        "            # 温度パラメータを適用\n",
        "            output = output / temperature\n",
        "            probs = torch.softmax(output, dim=-1)\n",
        "\n",
        "            # 次の文字をサンプリング\n",
        "            next_char_idx = torch.multinomial(probs, 1).item()\n",
        "            next_char = dataset.idx_to_char[next_char_idx]\n",
        "\n",
        "            generated += next_char\n",
        "\n",
        "            # 入力を更新\n",
        "            input_seq = torch.tensor([[next_char_idx]], dtype=torch.long).to(device)\n",
        "\n",
        "    return generated\n",
        "\n",
        "# テキスト生成のサンプル\n",
        "print(\"\\n生成されたテキスト:\")\n",
        "print(\"-\" * 50)\n",
        "seed_text = \"私は\"\n",
        "generated_text = generate_text(model, dataset, seed_text, length=200, temperature=0.8)\n",
        "print(generated_text)\n",
        "\n",
        "# より保守的な生成\n",
        "print(\"\\n保守的な生成 (temperature=0.5):\")\n",
        "print(\"-\" * 50)\n",
        "conservative_text = generate_text(model, dataset, seed_text, length=200, temperature=0.5)\n",
        "print(conservative_text)\n"
      ],
      "metadata": {
        "colab": {
          "base_uri": "https://localhost:8080/"
        },
        "id": "DYTMMIzCP2it",
        "outputId": "3607a84b-54f9-4fec-dd40-b4cdf693827b"
      },
      "execution_count": null,
      "outputs": [
        {
          "output_type": "stream",
          "name": "stdout",
          "text": [
            "\n",
            "生成されたテキスト:\n",
            "--------------------------------------------------\n",
            "私は知らないようにして、「まあ病気に暮らしているものと、それを東京へ帰って来るように、ただ道を折れて、「すぐいいですか」 「何にも思い出したから」 「正直するのは、私はむしろ「胸に仰山（とんあん）しているのが鎌倉（かまくら）へ帰った。そうして若い女の事のある事をやりました。若い様子は、大抵外（ほか）になっているのです。それでもあなたに対して、まだ私は世間だったのです。仏（お）まったままは、いつなもので\n",
            "\n",
            "保守的な生成 (temperature=0.5):\n",
            "--------------------------------------------------\n",
            "私はその人のまだあったのです。私はそれを忘れていたところもありません。私はただいつもの事を考えたと、それを隠しているのです。私はそれでも名掛茶屋へ行って、自分の室に入れて来たのです。 私はそれを苦笑していたのです。自分は自分の身体（からだ）が、私の方が有難（ぞうせつ）になっているのです。 私はその時の私にはそれをそこに立て懸けて、その時の前に跪（ひざまず）いた事のできないのです。それからこういう言葉が\n"
          ]
        }
      ]
    },
    {
      "cell_type": "markdown",
      "source": [
        "## モデルの保存\n",
        "学習に時間を要した(GPUを消費した)から，もったいなくて保存する。"
      ],
      "metadata": {
        "id": "L16dPFwfT-0Q"
      }
    },
    {
      "cell_type": "code",
      "source": [
        "# モデルの保存\n",
        "torch.save({\n",
        "    'model_state_dict': model.state_dict(),\n",
        "    'vocab_size': dataset.vocab_size,\n",
        "    'char_to_idx': dataset.char_to_idx,\n",
        "    'idx_to_char': dataset.idx_to_char,\n",
        "    'model_config': {\n",
        "        'embedding_dim': 128,\n",
        "        'hidden_dim': 256,\n",
        "        'num_layers': 2,\n",
        "        'dropout': 0.3\n",
        "    }\n",
        "}, 'lstm_text_generator.pth')"
      ],
      "metadata": {
        "id": "w84tCguDQEBo"
      },
      "execution_count": null,
      "outputs": []
    },
    {
      "cell_type": "code",
      "source": [],
      "metadata": {
        "id": "ORK4IlCnIigX"
      },
      "execution_count": null,
      "outputs": []
    }
  ]
}