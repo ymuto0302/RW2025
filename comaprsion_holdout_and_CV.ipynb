{
  "nbformat": 4,
  "nbformat_minor": 0,
  "metadata": {
    "colab": {
      "provenance": [],
      "authorship_tag": "ABX9TyMeKbvfbGGAOq4TzS9xR8AW",
      "include_colab_link": true
    },
    "kernelspec": {
      "name": "python3",
      "display_name": "Python 3"
    },
    "language_info": {
      "name": "python"
    }
  },
  "cells": [
    {
      "cell_type": "markdown",
      "metadata": {
        "id": "view-in-github",
        "colab_type": "text"
      },
      "source": [
        "<a href=\"https://colab.research.google.com/github/ymuto0302/RW2025/blob/main/comaprsion_holdout_and_CV.ipynb\" target=\"_parent\"><img src=\"https://colab.research.google.com/assets/colab-badge.svg\" alt=\"Open In Colab\"/></a>"
      ]
    },
    {
      "cell_type": "markdown",
      "source": [
        "# ホールドアウト法と交差検証法の比較実験\n",
        "以下では digits データセットの場合のコードのみ示している。"
      ],
      "metadata": {
        "id": "vzEmxRywy4Ls"
      }
    },
    {
      "cell_type": "markdown",
      "source": [
        "## ライブラリのインポート"
      ],
      "metadata": {
        "id": "jRuDOmxXzZVL"
      }
    },
    {
      "cell_type": "code",
      "source": [
        "from sklearn.tree import DecisionTreeClassifier\n",
        "from sklearn.model_selection import train_test_split\n",
        "from sklearn.datasets import load_digits\n",
        "from sklearn.preprocessing import StandardScaler\n",
        "from sklearn.metrics import accuracy_score\n",
        "from sklearn.model_selection import cross_val_score, StratifiedKFold\n",
        "import numpy as np"
      ],
      "metadata": {
        "id": "KQgi9kFxo8b1"
      },
      "execution_count": 13,
      "outputs": []
    },
    {
      "cell_type": "markdown",
      "source": [
        "## データセットの読み込み ＆ 標準化"
      ],
      "metadata": {
        "id": "aM23j4A1zcwi"
      }
    },
    {
      "cell_type": "code",
      "source": [
        "digits = load_digits()\n",
        "X, y = digits.data, digits.target\n",
        "\n",
        "# データの標準化\n",
        "scaler = StandardScaler()\n",
        "X_scaled = scaler.fit_transform(X)"
      ],
      "metadata": {
        "id": "askEN7RBpOkj"
      },
      "execution_count": 14,
      "outputs": []
    },
    {
      "cell_type": "markdown",
      "source": [
        "## モデルの定義"
      ],
      "metadata": {
        "id": "QvCD-eplzhlz"
      }
    },
    {
      "cell_type": "code",
      "source": [
        "clf = DecisionTreeClassifier(max_depth=10, random_state=42)"
      ],
      "metadata": {
        "id": "qSzhpE1NpC0j"
      },
      "execution_count": 15,
      "outputs": []
    },
    {
      "cell_type": "markdown",
      "source": [
        "## ホールドアウト法"
      ],
      "metadata": {
        "id": "xI6--HWVznt6"
      }
    },
    {
      "cell_type": "code",
      "source": [
        "holdout_scores = [] # 正解率を記録するためのリスト\n",
        "\n",
        "for seed in range(30):\n",
        "    # random seed を変えて，訓練データ・テストデータへ分割\n",
        "    X_train, X_test, y_train, y_test = train_test_split(\n",
        "        X_scaled, y, test_size=0.3,\n",
        "        stratify=y,\n",
        "        random_state=seed # random seed を変化させて，データを分割\n",
        "    )\n",
        "\n",
        "    clf.fit(X_train, y_train) # 学習\n",
        "    score = clf.score(X_test, y_test) # テストデータに対する正解率を求める\n",
        "\n",
        "    holdout_scores.append(score) # 正解率を記録\n",
        "\n",
        "print(f\"正解率の平均: {np.mean(holdout_scores):.3f}\")\n",
        "print(f\"正解率の標準偏差: {np.std(holdout_scores):.4f}\")"
      ],
      "metadata": {
        "colab": {
          "base_uri": "https://localhost:8080/"
        },
        "id": "GWhShFQYo8ZV",
        "outputId": "da71e752-c7be-4ba0-b1e0-aa4624eda45d"
      },
      "execution_count": 19,
      "outputs": [
        {
          "output_type": "stream",
          "name": "stdout",
          "text": [
            "正解率の平均: 0.847\n",
            "正解率の標準偏差: 0.0140\n"
          ]
        }
      ]
    },
    {
      "cell_type": "markdown",
      "source": [
        "## 交差検証法"
      ],
      "metadata": {
        "id": "9LvgDrQJzq3k"
      }
    },
    {
      "cell_type": "code",
      "source": [
        "cv_mean_scores = [] # 正解率を記録するためのリスト\n",
        "\n",
        "for seed in range(30):\n",
        "    # random seed を変えて，CV を実行\n",
        "    cv_scores = cross_val_score(\n",
        "        clf, X_scaled, y,\n",
        "        cv=StratifiedKFold(n_splits=5, shuffle=True, random_state=seed) # 5-fold CV\n",
        "    )\n",
        "\n",
        "    # この実行での5-foldの平均正解率を記録\n",
        "    cv_mean_scores.append(np.mean(cv_scores))\n",
        "\n",
        "print(f\"正解率の平均: {np.mean(cv_mean_scores):.3f}\")\n",
        "print(f\"正解率の標準偏差: {np.std(cv_mean_scores):.4f}\")"
      ],
      "metadata": {
        "colab": {
          "base_uri": "https://localhost:8080/"
        },
        "id": "H8Ka-dfJqB06",
        "outputId": "334baddc-0660-4ec2-9447-ec71d61c7dd9"
      },
      "execution_count": 20,
      "outputs": [
        {
          "output_type": "stream",
          "name": "stdout",
          "text": [
            "正解率の平均: 0.852\n",
            "正解率の標準偏差: 0.0071\n"
          ]
        }
      ]
    }
  ]
}