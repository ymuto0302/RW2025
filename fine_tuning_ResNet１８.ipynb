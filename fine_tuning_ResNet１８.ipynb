{
  "nbformat": 4,
  "nbformat_minor": 0,
  "metadata": {
    "colab": {
      "provenance": [],
      "gpuType": "T4",
      "authorship_tag": "ABX9TyOZNIx7Z5jl+95mR+sT9YmR",
      "include_colab_link": true
    },
    "kernelspec": {
      "name": "python3",
      "display_name": "Python 3"
    },
    "language_info": {
      "name": "python"
    },
    "accelerator": "GPU"
  },
  "cells": [
    {
      "cell_type": "markdown",
      "metadata": {
        "id": "view-in-github",
        "colab_type": "text"
      },
      "source": [
        "<a href=\"https://colab.research.google.com/github/ymuto0302/RW2025/blob/main/fine_tuning_ResNet%EF%BC%91%EF%BC%98.ipynb\" target=\"_parent\"><img src=\"https://colab.research.google.com/assets/colab-badge.svg\" alt=\"Open In Colab\"/></a>"
      ]
    },
    {
      "cell_type": "markdown",
      "source": [
        "# ResNet50 のファインチューニング\n",
        "CIFAR-10 dataset のサブセットを対象に分類問題を解く。\n",
        "\n",
        "（注意） 本コードの実行には GPU が必須である。"
      ],
      "metadata": {
        "id": "YCocb-UYARnC"
      }
    },
    {
      "cell_type": "markdown",
      "source": [
        "## 必要なライブラリのインポート"
      ],
      "metadata": {
        "id": "GJ3RPkN8Cei9"
      }
    },
    {
      "cell_type": "code",
      "source": [
        "import torch\n",
        "import torch.nn as nn\n",
        "import torch.optim as optim\n",
        "import torchvision\n",
        "import torchvision.transforms as transforms\n",
        "import torchvision.models as models\n",
        "from torch.utils.data import DataLoader, Subset\n",
        "import matplotlib.pyplot as plt\n",
        "import numpy as np\n",
        "from tqdm import tqdm\n",
        "import time\n",
        "import os\n",
        "\n",
        "# デバイス設定\n",
        "device = torch.device(\"cuda\" if torch.cuda.is_available() else \"cpu\")\n",
        "print(f\"Using device: {device}\")"
      ],
      "metadata": {
        "colab": {
          "base_uri": "https://localhost:8080/"
        },
        "id": "qkfqbHby3ZfC",
        "outputId": "54ce2a43-7023-4fef-abb0-abb397c04d71"
      },
      "execution_count": 1,
      "outputs": [
        {
          "output_type": "stream",
          "name": "stdout",
          "text": [
            "Using device: cuda\n"
          ]
        }
      ]
    },
    {
      "cell_type": "markdown",
      "source": [
        "## ハイパーパラメータの設定\n",
        "事前学習によって得られた知識を破壊してしまわないよう，特に低い学習率を設定する点がポイント！！"
      ],
      "metadata": {
        "id": "Una0SLglAruT"
      }
    },
    {
      "cell_type": "code",
      "source": [
        "# ハイパーパラメータ\n",
        "BATCH_SIZE = 64\n",
        "EPOCHS = 10\n",
        "LEARNING_RATE = 1e-4 # 学習率を低めに設定する\n",
        "WEIGHT_DECAY = 1e-4"
      ],
      "metadata": {
        "id": "8rVXAYyq6aHI"
      },
      "execution_count": 2,
      "outputs": []
    },
    {
      "cell_type": "markdown",
      "source": [
        "## CIFAR-10 dataset の読み込み"
      ],
      "metadata": {
        "id": "cm6uGYnqAyp8"
      }
    },
    {
      "cell_type": "code",
      "source": [
        "# CIFAR-10データセットの読み込み\n",
        "def load_cifar10_data(batch_size=32):\n",
        "    # 訓練用変換\n",
        "    train_transform = transforms.Compose([\n",
        "        transforms.Resize(224),  # ResNetの入力サイズに合わせる\n",
        "        transforms.ToTensor(),\n",
        "        transforms.Normalize(mean=[0.485, 0.456, 0.406],\n",
        "                           std=[0.229, 0.224, 0.225])\n",
        "    ])\n",
        "\n",
        "    # テスト用変換\n",
        "    test_transform = transforms.Compose([\n",
        "        transforms.Resize(224),\n",
        "        transforms.ToTensor(),\n",
        "        transforms.Normalize(mean=[0.485, 0.456, 0.406],\n",
        "                           std=[0.229, 0.224, 0.225])\n",
        "    ])\n",
        "\n",
        "    # === データセットの読み込み ===\n",
        "    # (1) 元のデータセットの読み込み\n",
        "    full_trainset = torchvision.datasets.CIFAR10(root='./data', train=True,\n",
        "                                                 download=True, transform=train_transform)\n",
        "    full_testset = torchvision.datasets.CIFAR10(root='./data', train=False,\n",
        "                                               download=True, transform=test_transform)\n",
        "\n",
        "    # (2) サイズを小さくするため，サブセットを作成\n",
        "    train_size = 10000  # 訓練データを 10000サンプルに\n",
        "    test_size = 2000   # テストデータを 2000サンプルに\n",
        "    # ランダムにインデックスを選択\n",
        "    train_indices = torch.randperm(len(full_trainset))[:train_size]\n",
        "    test_indices = torch.randperm(len(full_testset))[:test_size]\n",
        "\n",
        "    # サブセットを作成\n",
        "    trainset = Subset(full_trainset, train_indices)\n",
        "    testset = Subset(full_testset, test_indices)\n",
        "\n",
        "    # データローダーの構築\n",
        "    trainloader = DataLoader(trainset, batch_size=batch_size,\n",
        "                           shuffle=True, num_workers=2)\n",
        "\n",
        "    testloader = DataLoader(testset, batch_size=batch_size,\n",
        "                          shuffle=False, num_workers=2)\n",
        "\n",
        "    return trainloader, testloader\n",
        "\n",
        "# データセットを読み込み\n",
        "print(\"データセットを読み込み中...\")\n",
        "trainloader, testloader = load_cifar10_data(batch_size=BATCH_SIZE)\n",
        "print(f\"訓練データ: {len(trainloader.dataset)}サンプル\")\n",
        "print(f\"テストデータ: {len(testloader.dataset)}サンプル\")"
      ],
      "metadata": {
        "colab": {
          "base_uri": "https://localhost:8080/"
        },
        "id": "f5o0xi7t4YrB",
        "outputId": "12674914-ddc6-443e-fe39-63f987165e62"
      },
      "execution_count": 3,
      "outputs": [
        {
          "output_type": "stream",
          "name": "stdout",
          "text": [
            "データセットを読み込み中...\n",
            "訓練データ: 10000サンプル\n",
            "テストデータ: 2000サンプル\n"
          ]
        }
      ]
    },
    {
      "cell_type": "markdown",
      "source": [
        "## モデルの読み込み\n",
        "ファインチューニングの場合，全てのモデル・パラメータを学習可能に設定する。"
      ],
      "metadata": {
        "id": "8AOv_HfZBVmX"
      }
    },
    {
      "cell_type": "code",
      "source": [
        "# ファインチューニング用のモデルを作成\n",
        "def create_model(num_classes=10):\n",
        "\n",
        "    # 事前学習済みResNet50をロード\n",
        "    model = models.resnet18(weights=models.ResNet18_Weights.IMAGENET1K_V1)\n",
        "\n",
        "    # 最終層を新しいタスク用に変更（CIFAR-10は 10クラス問題）\n",
        "    model.fc = nn.Linear(model.fc.in_features, num_classes)\n",
        "\n",
        "    # 全てのパラメータを学習可能に設定\n",
        "    for param in model.parameters():\n",
        "        param.requires_grad = True\n",
        "\n",
        "    return model\n",
        "\n",
        "# モデルを作成\n",
        "model = create_model(num_classes=10)\n",
        "model = model.to(device)"
      ],
      "metadata": {
        "id": "jv1TQ5_W4kuO"
      },
      "execution_count": 4,
      "outputs": []
    },
    {
      "cell_type": "markdown",
      "source": [
        "## モデルの訓練"
      ],
      "metadata": {
        "id": "9zh6o71tC0xC"
      }
    },
    {
      "cell_type": "code",
      "source": [
        "# 1エポックの訓練\n",
        "def train_epoch(model, trainloader, criterion, optimizer, device):\n",
        "    model.train()\n",
        "    running_loss = 0.0\n",
        "    correct = 0\n",
        "    total = 0\n",
        "\n",
        "    for batch_idx, (inputs, targets) in enumerate(tqdm(trainloader)):\n",
        "        inputs, targets = inputs.to(device), targets.to(device)\n",
        "\n",
        "        # 勾配リセット\n",
        "        optimizer.zero_grad()\n",
        "\n",
        "        # 順伝播\n",
        "        outputs = model(inputs)\n",
        "        loss = criterion(outputs, targets)\n",
        "\n",
        "        # 逆伝播とパラメータ更新\n",
        "        loss.backward()\n",
        "        optimizer.step()\n",
        "\n",
        "        # 統計を更新\n",
        "        running_loss += loss.item()\n",
        "        _, predicted = outputs.max(1)\n",
        "        total += targets.size(0)\n",
        "        correct += predicted.eq(targets).sum().item()\n",
        "\n",
        "    return running_loss / len(trainloader), 100. * correct / total\n",
        "\n",
        "# モデルの評価\n",
        "def validate(model, testloader, criterion, device):\n",
        "    model.eval()\n",
        "    test_loss = 0\n",
        "    correct = 0\n",
        "    total = 0\n",
        "\n",
        "    with torch.no_grad():\n",
        "        for batch_idx, (inputs, targets) in enumerate(tqdm(testloader)):\n",
        "            inputs, targets = inputs.to(device), targets.to(device)\n",
        "            outputs = model(inputs)\n",
        "            loss = criterion(outputs, targets)\n",
        "\n",
        "            test_loss += loss.item()\n",
        "            _, predicted = outputs.max(1)\n",
        "            total += targets.size(0)\n",
        "            correct += predicted.eq(targets).sum().item()\n",
        "\n",
        "    return test_loss / len(testloader), 100. * correct / total\n",
        "\n",
        "def train_model(epochs=10, learning_rate=1e-4, weight_decay=1e-4):\n",
        "    # 損失関数と最適化アルゴリズムの定義\n",
        "    criterion = nn.CrossEntropyLoss()\n",
        "    optimizer = optim.Adam(model.parameters(), lr=learning_rate, weight_decay=weight_decay)\n",
        "\n",
        "    # 訓練履歴を記録\n",
        "    train_losses, train_accs = [], []\n",
        "    val_losses, val_accs = [], []\n",
        "    best_acc = 0.0\n",
        "\n",
        "    for epoch in range(EPOCHS):\n",
        "        print(f\"\\nEpoch {epoch+1}/{EPOCHS}\")\n",
        "        print(\"-\" * 30)\n",
        "\n",
        "        # 訓練\n",
        "        train_loss, train_acc = train_epoch(model, trainloader, criterion, optimizer, device)\n",
        "\n",
        "        # 検証\n",
        "        val_loss, val_acc = validate(model, testloader, criterion, device)\n",
        "\n",
        "        # 履歴を記録\n",
        "        train_losses.append(train_loss)\n",
        "        train_accs.append(train_acc)\n",
        "        val_losses.append(val_loss)\n",
        "        val_accs.append(val_acc)\n",
        "\n",
        "        # 最良モデルを保存\n",
        "        if val_acc > best_acc:\n",
        "            best_acc = val_acc\n",
        "\n",
        "        print(f\"Train Loss: {train_loss:.4f}, Train Acc: {train_acc:.2f}%\")\n",
        "        print(f\"Val Loss: {val_loss:.4f}, Val Acc: {val_acc:.2f}%\")\n",
        "        print(f\"Best Val Acc: {best_acc:.2f}%\")\n",
        "\n",
        "    return train_losses, train_accs, val_losses, val_accs\n",
        "\n",
        "train_losses, train_accs, val_losses, val_accs = train_model(\n",
        "    epochs=EPOCHS,\n",
        "    learning_rate=LEARNING_RATE,\n",
        "    weight_decay=WEIGHT_DECAY)"
      ],
      "metadata": {
        "colab": {
          "base_uri": "https://localhost:8080/"
        },
        "id": "miF5Ct8L5EHd",
        "outputId": "a95fb83d-153b-421a-e939-6516a4dd3fa3"
      },
      "execution_count": 5,
      "outputs": [
        {
          "output_type": "stream",
          "name": "stdout",
          "text": [
            "\n",
            "Epoch 1/10\n",
            "------------------------------\n"
          ]
        },
        {
          "output_type": "stream",
          "name": "stderr",
          "text": [
            "100%|██████████| 157/157 [00:32<00:00,  4.85it/s]\n",
            "100%|██████████| 32/32 [00:03<00:00,  8.88it/s]\n"
          ]
        },
        {
          "output_type": "stream",
          "name": "stdout",
          "text": [
            "Train Loss: 0.6341, Train Acc: 79.88%\n",
            "Val Loss: 0.3343, Val Acc: 89.65%\n",
            "Best Val Acc: 89.65%\n",
            "\n",
            "Epoch 2/10\n",
            "------------------------------\n"
          ]
        },
        {
          "output_type": "stream",
          "name": "stderr",
          "text": [
            "100%|██████████| 157/157 [00:31<00:00,  5.00it/s]\n",
            "100%|██████████| 32/32 [00:04<00:00,  7.02it/s]\n"
          ]
        },
        {
          "output_type": "stream",
          "name": "stdout",
          "text": [
            "Train Loss: 0.1432, Train Acc: 96.31%\n",
            "Val Loss: 0.2964, Val Acc: 90.20%\n",
            "Best Val Acc: 90.20%\n",
            "\n",
            "Epoch 3/10\n",
            "------------------------------\n"
          ]
        },
        {
          "output_type": "stream",
          "name": "stderr",
          "text": [
            "100%|██████████| 157/157 [00:31<00:00,  5.03it/s]\n",
            "100%|██████████| 32/32 [00:03<00:00,  8.78it/s]\n"
          ]
        },
        {
          "output_type": "stream",
          "name": "stdout",
          "text": [
            "Train Loss: 0.0370, Train Acc: 99.62%\n",
            "Val Loss: 0.2874, Val Acc: 91.45%\n",
            "Best Val Acc: 91.45%\n",
            "\n",
            "Epoch 4/10\n",
            "------------------------------\n"
          ]
        },
        {
          "output_type": "stream",
          "name": "stderr",
          "text": [
            "100%|██████████| 157/157 [00:31<00:00,  4.96it/s]\n",
            "100%|██████████| 32/32 [00:03<00:00,  8.73it/s]\n"
          ]
        },
        {
          "output_type": "stream",
          "name": "stdout",
          "text": [
            "Train Loss: 0.0176, Train Acc: 99.85%\n",
            "Val Loss: 0.2894, Val Acc: 91.55%\n",
            "Best Val Acc: 91.55%\n",
            "\n",
            "Epoch 5/10\n",
            "------------------------------\n"
          ]
        },
        {
          "output_type": "stream",
          "name": "stderr",
          "text": [
            "100%|██████████| 157/157 [00:31<00:00,  4.94it/s]\n",
            "100%|██████████| 32/32 [00:03<00:00,  9.19it/s]\n"
          ]
        },
        {
          "output_type": "stream",
          "name": "stdout",
          "text": [
            "Train Loss: 0.0133, Train Acc: 99.86%\n",
            "Val Loss: 0.2978, Val Acc: 91.10%\n",
            "Best Val Acc: 91.55%\n",
            "\n",
            "Epoch 6/10\n",
            "------------------------------\n"
          ]
        },
        {
          "output_type": "stream",
          "name": "stderr",
          "text": [
            "100%|██████████| 157/157 [00:31<00:00,  5.01it/s]\n",
            "100%|██████████| 32/32 [00:04<00:00,  6.94it/s]\n"
          ]
        },
        {
          "output_type": "stream",
          "name": "stdout",
          "text": [
            "Train Loss: 0.0057, Train Acc: 99.99%\n",
            "Val Loss: 0.2744, Val Acc: 91.40%\n",
            "Best Val Acc: 91.55%\n",
            "\n",
            "Epoch 7/10\n",
            "------------------------------\n"
          ]
        },
        {
          "output_type": "stream",
          "name": "stderr",
          "text": [
            "100%|██████████| 157/157 [00:31<00:00,  5.02it/s]\n",
            "100%|██████████| 32/32 [00:03<00:00,  8.31it/s]\n"
          ]
        },
        {
          "output_type": "stream",
          "name": "stdout",
          "text": [
            "Train Loss: 0.0041, Train Acc: 99.98%\n",
            "Val Loss: 0.2796, Val Acc: 91.40%\n",
            "Best Val Acc: 91.55%\n",
            "\n",
            "Epoch 8/10\n",
            "------------------------------\n"
          ]
        },
        {
          "output_type": "stream",
          "name": "stderr",
          "text": [
            "100%|██████████| 157/157 [00:31<00:00,  4.94it/s]\n",
            "100%|██████████| 32/32 [00:03<00:00,  8.90it/s]\n"
          ]
        },
        {
          "output_type": "stream",
          "name": "stdout",
          "text": [
            "Train Loss: 0.0023, Train Acc: 100.00%\n",
            "Val Loss: 0.2774, Val Acc: 92.10%\n",
            "Best Val Acc: 92.10%\n",
            "\n",
            "Epoch 9/10\n",
            "------------------------------\n"
          ]
        },
        {
          "output_type": "stream",
          "name": "stderr",
          "text": [
            "100%|██████████| 157/157 [00:31<00:00,  4.94it/s]\n",
            "100%|██████████| 32/32 [00:03<00:00,  9.01it/s]\n"
          ]
        },
        {
          "output_type": "stream",
          "name": "stdout",
          "text": [
            "Train Loss: 0.0015, Train Acc: 100.00%\n",
            "Val Loss: 0.2782, Val Acc: 92.20%\n",
            "Best Val Acc: 92.20%\n",
            "\n",
            "Epoch 10/10\n",
            "------------------------------\n"
          ]
        },
        {
          "output_type": "stream",
          "name": "stderr",
          "text": [
            "100%|██████████| 157/157 [00:31<00:00,  5.01it/s]\n",
            "100%|██████████| 32/32 [00:04<00:00,  7.34it/s]"
          ]
        },
        {
          "output_type": "stream",
          "name": "stdout",
          "text": [
            "Train Loss: 0.0014, Train Acc: 100.00%\n",
            "Val Loss: 0.2787, Val Acc: 92.05%\n",
            "Best Val Acc: 92.20%\n"
          ]
        },
        {
          "output_type": "stream",
          "name": "stderr",
          "text": [
            "\n"
          ]
        }
      ]
    },
    {
      "cell_type": "markdown",
      "source": [
        "## 学習曲線"
      ],
      "metadata": {
        "id": "duE_EaMADj9N"
      }
    },
    {
      "cell_type": "code",
      "source": [
        "# 訓練履歴のプロット\n",
        "def plot_training_history(train_losses, train_accs, val_losses, val_accs):\n",
        "    fig, (ax1, ax2) = plt.subplots(1, 2, figsize=(12, 4))\n",
        "\n",
        "    # Loss\n",
        "    ax1.plot(train_losses, label='Training Loss', color='blue')\n",
        "    ax1.plot(val_losses, label='Validation Loss', color='red')\n",
        "    ax1.set_title('Training and Validation Loss')\n",
        "    ax1.set_xlabel('Epoch')\n",
        "    ax1.set_ylabel('Loss')\n",
        "    ax1.legend()\n",
        "    ax1.grid(True)\n",
        "\n",
        "    # Accuracy\n",
        "    ax2.plot(train_accs, label='Training Accuracy', color='blue')\n",
        "    ax2.plot(val_accs, label='Validation Accuracy', color='red')\n",
        "    ax2.set_title('Training and Validation Accuracy')\n",
        "    ax2.set_xlabel('Epoch')\n",
        "    ax2.set_ylabel('Accuracy (%)')\n",
        "    ax2.legend()\n",
        "    ax2.grid(True)\n",
        "\n",
        "    plt.tight_layout()\n",
        "    plt.savefig('training_history.png', dpi=300, bbox_inches='tight')\n",
        "    plt.show()\n",
        "\n",
        "# 訓練履歴のプロット\n",
        "plot_training_history(train_losses, train_accs, val_losses, val_accs)\n"
      ],
      "metadata": {
        "colab": {
          "base_uri": "https://localhost:8080/",
          "height": 302
        },
        "id": "61wyNb3UB8_7",
        "outputId": "4aa0d189-1e71-45cf-a76d-74a281cd3136"
      },
      "execution_count": 6,
      "outputs": [
        {
          "output_type": "display_data",
          "data": {
            "text/plain": [
              "<Figure size 1200x400 with 2 Axes>"
            ],
            "image/png": "[encoded data removed]"
          },
          "metadata": {}
        }
      ]
    },
    {
      "cell_type": "code",
      "source": [],
      "metadata": {
        "id": "SXHNLuZL3Cwv"
      },
      "execution_count": null,
      "outputs": []
    }
  ]
}