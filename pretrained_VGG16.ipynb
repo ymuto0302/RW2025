{
  "nbformat": 4,
  "nbformat_minor": 0,
  "metadata": {
    "colab": {
      "provenance": [],
      "authorship_tag": "ABX9TyMbYQ8s+0W+XdAS6dhl2aXa",
      "include_colab_link": true
    },
    "kernelspec": {
      "name": "python3",
      "display_name": "Python 3"
    },
    "language_info": {
      "name": "python"
    }
  },
  "cells": [
    {
      "cell_type": "markdown",
      "metadata": {
        "id": "view-in-github",
        "colab_type": "text"
      },
      "source": [
        "<a href=\"https://colab.research.google.com/github/ymuto0302/RW2025/blob/main/pretrained_VGG16.ipynb\" target=\"_parent\"><img src=\"https://colab.research.google.com/assets/colab-badge.svg\" alt=\"Open In Colab\"/></a>"
      ]
    },
    {
      "cell_type": "markdown",
      "source": [
        "## VGG16をそのまま利用する\n",
        "処理の流れは以下のとおり：\n",
        "1. VGG16モデルを読み込み，評価モードに設定\n",
        "1. 画像の読み込み\n",
        "1. 画像の前処理：画像サイズを VGG16 に合わせ，かつテンソル化\n",
        "1. 画像を VGG16 に与えて推論\n",
        "1. 推論結果の出力\n",
        "\n",
        "実行の際，予め example.jpg を Colab へアップロードしておくこと。\n"
      ],
      "metadata": {
        "id": "Ey2IKt_cXM6m"
      }
    },
    {
      "cell_type": "code",
      "source": [
        "import torch\n",
        "import torchvision.models as models\n",
        "import torchvision.transforms as transforms\n",
        "from PIL import Image\n",
        "\n",
        "# ImageNetのクラス名を取得する関数\n",
        "def get_imagenet_classes():\n",
        "    # torchvisionの weights からクラス名を取得\n",
        "    weights = models.VGG16_Weights.IMAGENET1K_V1\n",
        "    class_names = weights.meta[\"categories\"]\n",
        "    return class_names\n",
        "\n",
        "# VGG16をロード\n",
        "model = models.vgg16(weights=models.VGG16_Weights.IMAGENET1K_V1)\n",
        "model.eval()  # 評価モードに設定\n",
        "\n",
        "# ImageNetクラス名を取得\n",
        "class_names = get_imagenet_classes()\n",
        "\n",
        "# 画像の前処理を定義\n",
        "preprocess = transforms.Compose([\n",
        "    transforms.Resize(256),\n",
        "    transforms.CenterCrop(224),\n",
        "    transforms.ToTensor(),\n",
        "    transforms.Normalize(mean=[0.485, 0.456, 0.406], std=[0.229, 0.224, 0.225]),\n",
        "])\n",
        "\n",
        "# 画像分類を実行する関数\n",
        "def classify_image(image_path):\n",
        "    # 画像を読み込み\n",
        "    image = Image.open(image_path).convert('RGB')\n",
        "\n",
        "    # 前処理を適用\n",
        "    image_tensor = preprocess(image).unsqueeze(0)  # バッチ次元を追加\n",
        "\n",
        "    # 推論実行\n",
        "    with torch.no_grad():\n",
        "        output = model(image_tensor)\n",
        "\n",
        "    # 確率に変換\n",
        "    probabilities = torch.nn.functional.softmax(output[0], dim=0)\n",
        "\n",
        "    # 上位5つの予測を取得\n",
        "    top5_prob, top5_indices = torch.topk(probabilities, 5)\n",
        "\n",
        "    # 結果を表示\n",
        "    print(f\"Top 5 predictions for {image_path}:\")\n",
        "    print(\"-----------------------------------------------\")\n",
        "    for i in range(5):\n",
        "        class_idx = top5_indices[i].item()\n",
        "        class_name = class_names[class_idx]\n",
        "        confidence = top5_prob[i].item() * 100\n",
        "        print(f\"{i+1}. {class_name}: {confidence:.2f}%\")\n",
        "\n",
        "    return top5_indices, top5_prob\n",
        "\n",
        "if __name__ == \"__main__\":\n",
        "    # 画像ファイルのパスを指定\n",
        "    image_path = \"example.jpg\"\n",
        "\n",
        "    classify_image(image_path)"
      ],
      "metadata": {
        "colab": {
          "base_uri": "https://localhost:8080/"
        },
        "id": "ZIs75KiMWCD7",
        "outputId": "67f085ea-5847-4137-dbf9-6d853228f36a"
      },
      "execution_count": 1,
      "outputs": [
        {
          "output_type": "stream",
          "name": "stderr",
          "text": [
            "Downloading: \"https://download.pytorch.org/models/vgg16-397923af.pth\" to /root/.cache/torch/hub/checkpoints/vgg16-397923af.pth\n",
            "100%|██████████| 528M/528M [00:58<00:00, 9.44MB/s]\n"
          ]
        },
        {
          "output_type": "stream",
          "name": "stdout",
          "text": [
            "Top 5 predictions for example.jpg:\n",
            "-----------------------------------------------\n",
            "1. tiger: 70.91%\n",
            "2. tiger cat: 27.97%\n",
            "3. jaguar: 0.47%\n",
            "4. leopard: 0.15%\n",
            "5. tabby: 0.14%\n"
          ]
        }
      ]
    },
    {
      "cell_type": "code",
      "source": [],
      "metadata": {
        "id": "beDHBE5CG1hm"
      },
      "execution_count": null,
      "outputs": []
    }
  ]
}