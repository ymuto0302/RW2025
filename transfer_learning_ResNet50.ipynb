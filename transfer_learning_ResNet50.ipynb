{
  "nbformat": 4,
  "nbformat_minor": 0,
  "metadata": {
    "colab": {
      "provenance": [],
      "gpuType": "T4",
      "authorship_tag": "ABX9TyMFPGmvLXYNhmm7VOxt4AzB",
      "include_colab_link": true
    },
    "kernelspec": {
      "name": "python3",
      "display_name": "Python 3"
    },
    "language_info": {
      "name": "python"
    },
    "accelerator": "GPU"
  },
  "cells": [
    {
      "cell_type": "markdown",
      "metadata": {
        "id": "view-in-github",
        "colab_type": "text"
      },
      "source": [
        "<a href=\"https://colab.research.google.com/github/ymuto0302/RW2025/blob/main/transfer_learning_ResNet50.ipynb\" target=\"_parent\"><img src=\"https://colab.research.google.com/assets/colab-badge.svg\" alt=\"Open In Colab\"/></a>"
      ]
    },
    {
      "cell_type": "markdown",
      "source": [
        "# ResNet50を利用した転移学習\n",
        "CIFAR-10 データセットの分類を試みる。\n",
        "\n",
        "<font color=\"red\">下記のコードを動作させる際，GPU の利用が必須である</font>"
      ],
      "metadata": {
        "id": "2mgOYyXXX5vo"
      }
    },
    {
      "cell_type": "markdown",
      "source": [
        "## 必要なライブラリのインポート"
      ],
      "metadata": {
        "id": "uG8J5LVWdem7"
      }
    },
    {
      "cell_type": "code",
      "source": [
        "import torch\n",
        "import torch.nn as nn\n",
        "import torch.optim as optim\n",
        "import torchvision\n",
        "import torchvision.transforms as transforms\n",
        "import torchvision.models as models\n",
        "from torch.utils.data import DataLoader\n",
        "import matplotlib.pyplot as plt\n",
        "import numpy as np\n",
        "from tqdm import tqdm\n",
        "import os\n",
        "\n",
        "# デバイスの設定\n",
        "device = torch.device('cuda' if torch.cuda.is_available() else 'cpu')\n",
        "print(f'Using device: {device}')"
      ],
      "metadata": {
        "colab": {
          "base_uri": "https://localhost:8080/"
        },
        "id": "SzdJMlqWdd0E",
        "outputId": "a025a02b-fbe0-4839-85f6-62cb39f6e766"
      },
      "execution_count": null,
      "outputs": [
        {
          "output_type": "stream",
          "name": "stdout",
          "text": [
            "Using device: cuda\n"
          ]
        }
      ]
    },
    {
      "cell_type": "markdown",
      "source": [
        "## ハイパーパラメータの設定"
      ],
      "metadata": {
        "id": "YQ4TPEzIVMH5"
      }
    },
    {
      "cell_type": "code",
      "source": [
        "# ハイパーパラメータの設定\n",
        "batch_size = 64 # バッチサイズ\n",
        "num_epochs = 10 # エポック数\n",
        "learning_rate = 0.001 # 学習率\n",
        "num_classes = 10 # 取り組むタスクのクラス数"
      ],
      "metadata": {
        "id": "EzImQBc5VKAK"
      },
      "execution_count": null,
      "outputs": []
    },
    {
      "cell_type": "markdown",
      "source": [
        "## データローダーの作成"
      ],
      "metadata": {
        "id": "DrYKw6-beFHF"
      }
    },
    {
      "cell_type": "code",
      "source": [
        "# データの前処理を定義\n",
        "def get_transforms():\n",
        "    # 学習用の変換\n",
        "    train_transform = transforms.Compose([\n",
        "        transforms.Resize((224, 224)),  # ResNet50の入力サイズに合わせる\n",
        "        transforms.ToTensor(),\n",
        "        transforms.Normalize(mean=[0.485, 0.456, 0.406], std=[0.229, 0.224, 0.225])\n",
        "    ])\n",
        "\n",
        "    # 検証用の変換\n",
        "    test_transform = transforms.Compose([\n",
        "        transforms.Resize((224, 224)),\n",
        "        transforms.ToTensor(),\n",
        "        transforms.Normalize(mean=[0.485, 0.456, 0.406], std=[0.229, 0.224, 0.225])\n",
        "    ])\n",
        "\n",
        "    return train_transform, test_transform\n",
        "\n",
        "# データセットとデータローダーの作成 (CIFAR-10のデータローダーを作成)\n",
        "def create_dataloaders(batch_size=32):\n",
        "    train_transform, test_transform = get_transforms()\n",
        "\n",
        "    # データセットのダウンロードと作成\n",
        "    train_dataset = torchvision.datasets.CIFAR10(root='./data', train=True, download=True, transform=train_transform)\n",
        "    test_dataset = torchvision.datasets.CIFAR10(root='./data', train=False, download=True, transform=test_transform)\n",
        "\n",
        "    # データローダーの作成\n",
        "    train_loader = DataLoader(train_dataset, batch_size=batch_size, shuffle=True, num_workers=2)\n",
        "    test_loader = DataLoader(test_dataset, batch_size=batch_size, shuffle=False, num_workers=2)\n",
        "\n",
        "    return train_loader, test_loader\n",
        "\n",
        "# データローダーの作成\n",
        "train_loader, test_loader = create_dataloaders(batch_size)\n",
        "\n",
        "print(f'Number of training batches: {len(train_loader)}')\n",
        "print(f'Number of test batches: {len(test_loader)}')"
      ],
      "metadata": {
        "id": "4Uyk7OrKeIw8",
        "colab": {
          "base_uri": "https://localhost:8080/"
        },
        "outputId": "83ac2b99-bedf-4f30-9eca-1329b188fe03"
      },
      "execution_count": null,
      "outputs": [
        {
          "output_type": "stream",
          "name": "stdout",
          "text": [
            "Number of training batches: 782\n",
            "Number of test batches: 157\n"
          ]
        }
      ]
    },
    {
      "cell_type": "markdown",
      "source": [
        "## 転移学習用の ResNet50 モデル\n",
        "ここが核心部分！！"
      ],
      "metadata": {
        "id": "u7qPsmNgeOT2"
      }
    },
    {
      "cell_type": "code",
      "source": [
        "# 転移学習用のResNet50モデルを作成\n",
        "def create_transfer_model(num_classes=10):\n",
        "    # 1. 事前学習済みモデルを読み込む\n",
        "    model = models.resnet50(weights=models.ResNet50_Weights.IMAGENET1K_V1)\n",
        "\n",
        "    # 2. 最終分類層を新しいタスクに合わせて変更\n",
        "    num_feature = model.fc.in_features\n",
        "    model.fc = nn.Linear(num_feature, num_classes)\n",
        "\n",
        "    # 3. 一旦，全ての層を凍結する\n",
        "    for param in model.parameters():m\n",
        "        param.requires_grad = False\n",
        "\n",
        "    # 4. 新しく追加した層のパラメータは学習対象にする\n",
        "    for param in model.fc.parameters():\n",
        "        param.requires_grad = True\n",
        "\n",
        "    return model\n",
        "\n",
        "# モデルの作成\n",
        "model = create_transfer_model(num_classes)\n",
        "model = model.to(device)"
      ],
      "metadata": {
        "id": "-icSh64SeVG9"
      },
      "execution_count": null,
      "outputs": []
    },
    {
      "cell_type": "markdown",
      "source": [
        "## モデルの学習\n",
        "（注意） Colab の T4 GPU を使っても約 30分の実行時間を要する。\n",
        "\n"
      ],
      "metadata": {
        "id": "27jCLX_begRv"
      }
    },
    {
      "cell_type": "code",
      "source": [
        "# 学習関数\n",
        "def train_model(model, train_loader, test_loader, num_epochs=30, learning_rate=0.001):\n",
        "    # 損失関数と最適化アルゴリズムの定義\n",
        "    criterion = nn.CrossEntropyLoss()\n",
        "    optimizer = optim.Adam(model.fc.parameters(), lr=learning_rate)\n",
        "\n",
        "    # 学習履歴を記録するリスト\n",
        "    train_losses = []\n",
        "    train_accuracies = []\n",
        "    test_losses = []\n",
        "    test_accuracies = []\n",
        "\n",
        "    for epoch in range(num_epochs):\n",
        "        # 学習フェーズ\n",
        "        model.train()\n",
        "        running_loss = 0.0\n",
        "        correct_predictions = 0\n",
        "        total_samples = 0\n",
        "\n",
        "        for inputs, labels in tqdm(train_loader):\n",
        "            inputs, labels = inputs.to(device), labels.to(device)\n",
        "\n",
        "            # 勾配をゼロにリセット\n",
        "            optimizer.zero_grad()\n",
        "\n",
        "            # 順伝播\n",
        "            outputs = model(inputs)\n",
        "            loss = criterion(outputs, labels)\n",
        "\n",
        "            # 逆伝播と最適化\n",
        "            loss.backward()\n",
        "            optimizer.step()\n",
        "\n",
        "            # 統計情報の更新\n",
        "            running_loss += loss.item()\n",
        "            _, predicted = torch.max(outputs.data, 1)\n",
        "            total_samples += labels.size(0)\n",
        "            correct_predictions += (predicted == labels).sum().item()\n",
        "\n",
        "        # エポックの学習結果を記録\n",
        "        epoch_train_loss = running_loss / len(train_loader)\n",
        "        epoch_train_acc = 100. * correct_predictions / total_samples\n",
        "        train_losses.append(epoch_train_loss)\n",
        "        train_accuracies.append(epoch_train_acc)\n",
        "\n",
        "        # 検証フェーズ\n",
        "        model.eval()\n",
        "        test_loss = 0.0\n",
        "        test_correct = 0\n",
        "        test_total = 0\n",
        "\n",
        "        with torch.no_grad():\n",
        "            for inputs, labels in tqdm(test_loader):\n",
        "                inputs, labels = inputs.to(device), labels.to(device)\n",
        "                outputs = model(inputs)\n",
        "                loss = criterion(outputs, labels)\n",
        "\n",
        "                test_loss += loss.item()\n",
        "                _, predicted = torch.max(outputs.data, 1)\n",
        "                test_total += labels.size(0)\n",
        "                test_correct += (predicted == labels).sum().item()\n",
        "\n",
        "        # エポックの検証結果を記録\n",
        "        epoch_test_loss = test_loss / len(test_loader)\n",
        "        epoch_test_acc = 100. * test_correct / test_total\n",
        "        test_losses.append(epoch_test_loss)\n",
        "        test_accuracies.append(epoch_test_acc)\n",
        "\n",
        "        # エポック結果の表示\n",
        "        print(f'Epoch {epoch+1}/{num_epochs}:')\n",
        "        print(f'  Train Loss: {epoch_train_loss:.4f}, Train Acc: {epoch_train_acc:.2f}%')\n",
        "        print(f'  Test Loss: {epoch_test_loss:.4f}, Test Acc: {epoch_test_acc:.2f}%')\n",
        "        print('-' * 50)\n",
        "\n",
        "    # 学習履歴を返す\n",
        "    history = {\n",
        "        'train_loss': train_losses,\n",
        "        'train_acc': train_accuracies,\n",
        "        'test_loss': test_losses,\n",
        "        'test_acc': test_accuracies\n",
        "    }\n",
        "\n",
        "    return history\n",
        "\n",
        "# 学習の実行\n",
        "history = train_model(\n",
        "    model, train_loader, test_loader,\n",
        "    num_epochs=num_epochs, learning_rate=learning_rate\n",
        ")"
      ],
      "metadata": {
        "colab": {
          "base_uri": "https://localhost:8080/"
        },
        "id": "99K-jX_BefwF",
        "outputId": "8d3a12ac-2499-487f-a533-dca4f6973790"
      },
      "execution_count": null,
      "outputs": [
        {
          "output_type": "stream",
          "name": "stderr",
          "text": [
            "100%|██████████| 782/782 [02:52<00:00,  4.53it/s]\n",
            "100%|██████████| 157/157 [00:32<00:00,  4.88it/s]\n"
          ]
        },
        {
          "output_type": "stream",
          "name": "stdout",
          "text": [
            "Epoch 1/10:\n",
            "  Train Loss: 0.7639, Train Acc: 74.53%\n",
            "  Test Loss: 0.5927, Test Acc: 80.02%\n",
            "--------------------------------------------------\n"
          ]
        },
        {
          "output_type": "stream",
          "name": "stderr",
          "text": [
            "100%|██████████| 782/782 [02:51<00:00,  4.57it/s]\n",
            "100%|██████████| 157/157 [00:32<00:00,  4.90it/s]\n"
          ]
        },
        {
          "output_type": "stream",
          "name": "stdout",
          "text": [
            "Epoch 2/10:\n",
            "  Train Loss: 0.5967, Train Acc: 79.35%\n",
            "  Test Loss: 0.5630, Test Acc: 80.36%\n",
            "--------------------------------------------------\n"
          ]
        },
        {
          "output_type": "stream",
          "name": "stderr",
          "text": [
            "100%|██████████| 782/782 [02:51<00:00,  4.57it/s]\n",
            "100%|██████████| 157/157 [00:32<00:00,  4.89it/s]\n"
          ]
        },
        {
          "output_type": "stream",
          "name": "stdout",
          "text": [
            "Epoch 3/10:\n",
            "  Train Loss: 0.5664, Train Acc: 80.21%\n",
            "  Test Loss: 0.5428, Test Acc: 81.29%\n",
            "--------------------------------------------------\n"
          ]
        },
        {
          "output_type": "stream",
          "name": "stderr",
          "text": [
            "100%|██████████| 782/782 [02:51<00:00,  4.57it/s]\n",
            "100%|██████████| 157/157 [00:32<00:00,  4.89it/s]\n"
          ]
        },
        {
          "output_type": "stream",
          "name": "stdout",
          "text": [
            "Epoch 4/10:\n",
            "  Train Loss: 0.5474, Train Acc: 80.98%\n",
            "  Test Loss: 0.5397, Test Acc: 81.77%\n",
            "--------------------------------------------------\n"
          ]
        },
        {
          "output_type": "stream",
          "name": "stderr",
          "text": [
            "100%|██████████| 782/782 [02:50<00:00,  4.57it/s]\n",
            "100%|██████████| 157/157 [00:32<00:00,  4.89it/s]\n"
          ]
        },
        {
          "output_type": "stream",
          "name": "stdout",
          "text": [
            "Epoch 5/10:\n",
            "  Train Loss: 0.5298, Train Acc: 81.63%\n",
            "  Test Loss: 0.5328, Test Acc: 81.73%\n",
            "--------------------------------------------------\n"
          ]
        },
        {
          "output_type": "stream",
          "name": "stderr",
          "text": [
            "100%|██████████| 782/782 [02:50<00:00,  4.58it/s]\n",
            "100%|██████████| 157/157 [00:31<00:00,  4.92it/s]\n"
          ]
        },
        {
          "output_type": "stream",
          "name": "stdout",
          "text": [
            "Epoch 6/10:\n",
            "  Train Loss: 0.5199, Train Acc: 82.00%\n",
            "  Test Loss: 0.5181, Test Acc: 82.21%\n",
            "--------------------------------------------------\n"
          ]
        },
        {
          "output_type": "stream",
          "name": "stderr",
          "text": [
            "100%|██████████| 782/782 [02:50<00:00,  4.58it/s]\n",
            "100%|██████████| 157/157 [00:32<00:00,  4.87it/s]\n"
          ]
        },
        {
          "output_type": "stream",
          "name": "stdout",
          "text": [
            "Epoch 7/10:\n",
            "  Train Loss: 0.5120, Train Acc: 82.14%\n",
            "  Test Loss: 0.5120, Test Acc: 82.48%\n",
            "--------------------------------------------------\n"
          ]
        },
        {
          "output_type": "stream",
          "name": "stderr",
          "text": [
            "100%|██████████| 782/782 [02:50<00:00,  4.58it/s]\n",
            "100%|██████████| 157/157 [00:32<00:00,  4.85it/s]\n"
          ]
        },
        {
          "output_type": "stream",
          "name": "stdout",
          "text": [
            "Epoch 8/10:\n",
            "  Train Loss: 0.5019, Train Acc: 82.43%\n",
            "  Test Loss: 0.5416, Test Acc: 81.51%\n",
            "--------------------------------------------------\n"
          ]
        },
        {
          "output_type": "stream",
          "name": "stderr",
          "text": [
            "100%|██████████| 782/782 [02:50<00:00,  4.58it/s]\n",
            "100%|██████████| 157/157 [00:32<00:00,  4.85it/s]\n"
          ]
        },
        {
          "output_type": "stream",
          "name": "stdout",
          "text": [
            "Epoch 9/10:\n",
            "  Train Loss: 0.4945, Train Acc: 82.74%\n",
            "  Test Loss: 0.5219, Test Acc: 81.72%\n",
            "--------------------------------------------------\n"
          ]
        },
        {
          "output_type": "stream",
          "name": "stderr",
          "text": [
            "100%|██████████| 782/782 [02:50<00:00,  4.59it/s]\n",
            "100%|██████████| 157/157 [00:32<00:00,  4.85it/s]"
          ]
        },
        {
          "output_type": "stream",
          "name": "stdout",
          "text": [
            "Epoch 10/10:\n",
            "  Train Loss: 0.4936, Train Acc: 82.85%\n",
            "  Test Loss: 0.5058, Test Acc: 82.90%\n",
            "--------------------------------------------------\n"
          ]
        },
        {
          "output_type": "stream",
          "name": "stderr",
          "text": [
            "\n"
          ]
        }
      ]
    },
    {
      "cell_type": "markdown",
      "source": [
        "## 学習曲線"
      ],
      "metadata": {
        "id": "-wCfj1vDe2IP"
      }
    },
    {
      "cell_type": "code",
      "source": [
        "# 学習結果の可視化\n",
        "def plot_training_history(history):\n",
        "    fig, (ax1, ax2) = plt.subplots(1, 2, figsize=(12, 4))\n",
        "\n",
        "    # 損失の推移\n",
        "    ax1.plot(history['train_loss'], label='Training Loss')\n",
        "    ax1.plot(history['test_loss'], label='Test Loss')\n",
        "    ax1.set_title('Model Loss')\n",
        "    ax1.set_xlabel('Epoch')\n",
        "    ax1.set_ylabel('Loss')\n",
        "    ax1.legend()\n",
        "    ax1.grid(True)\n",
        "\n",
        "    # 精度の推移\n",
        "    ax2.plot(history['train_acc'], label='Training Accuracy')\n",
        "    ax2.plot(history['test_acc'], label='Test Accuracy')\n",
        "    ax2.set_title('Model Accuracy')\n",
        "    ax2.set_xlabel('Epoch')\n",
        "    ax2.set_ylabel('Accuracy (%)')\n",
        "    ax2.legend()\n",
        "    ax2.grid(True)\n",
        "\n",
        "    plt.tight_layout()\n",
        "    plt.show()\n",
        "\n",
        "# 学習結果の可視化\n",
        "plot_training_history(history)"
      ],
      "metadata": {
        "id": "dEQEXNX0e43w",
        "colab": {
          "base_uri": "https://localhost:8080/",
          "height": 283
        },
        "outputId": "32200b33-66fd-4ae1-b837-3c658eda1f60"
      },
      "execution_count": null,
      "outputs": [
        {
          "output_type": "display_data",
          "data": {
            "text/plain": [
              "<Figure size 1200x400 with 2 Axes>"
            ],
            "image/png": "[encoded data removed]"
          },
          "metadata": {}
        }
      ]
    },
    {
      "cell_type": "markdown",
      "source": [
        "## テスト（モデルの評価）\n",
        "最終的なモデルに対して，改めてテストーデータを与えてモデルの性能を評価する。"
      ],
      "metadata": {
        "id": "BDWxMQNcfLd-"
      }
    },
    {
      "cell_type": "code",
      "source": [
        "# テスト関数\n",
        "def test_model(model, test_loader):\n",
        "    # CIFAR-10のクラス名\n",
        "    cifar10_classes = ['airplane', 'automobile', 'bird', 'cat', 'deer', 'dog', 'frog', 'horse', 'ship', 'truck']\n",
        "\n",
        "    # モデルの性能を評価\n",
        "    model.eval()\n",
        "    correct = 0\n",
        "    total = 0\n",
        "    class_correct = [0.0] * 10 # list(0. for i in range(10))\n",
        "    class_total = [0.0] * 10 # list(0. for i in range(10))\n",
        "\n",
        "    with torch.no_grad():\n",
        "        for inputs, labels in tqdm(test_loader):\n",
        "            inputs, labels = inputs.to(device), labels.to(device)\n",
        "            outputs = model(inputs)\n",
        "            _, predicted = torch.max(outputs, 1)\n",
        "            total += labels.size(0)\n",
        "            correct += (predicted == labels).sum().item()\n",
        "\n",
        "            # クラス別の精度計算\n",
        "            c = (predicted == labels).squeeze()\n",
        "            for i in range(labels.size(0)):\n",
        "                label = labels[i]\n",
        "                class_correct[label] += c[i].item()\n",
        "                class_total[label] += 1\n",
        "\n",
        "    # 全体の精度\n",
        "    overall_acc = 100. * correct / total\n",
        "    print(f'Overall Test Accuracy: {overall_acc:.2f}%')\n",
        "\n",
        "    # クラス別の精度\n",
        "    print(\"\\nClass-wise Accuracy:\")\n",
        "    for i in range(10):\n",
        "        if class_total[i] > 0:\n",
        "            acc = 100 * class_correct[i] / class_total[i]\n",
        "            print(f'{cifar10_classes[i]}: {acc:.2f}%')\n",
        "\n",
        "# テストを実行\n",
        "test_model(model, test_loader)"
      ],
      "metadata": {
        "id": "p3RGm8dWfOWG",
        "colab": {
          "base_uri": "https://localhost:8080/"
        },
        "outputId": "19462ec5-16a0-4c45-fbc9-aa86d4790195"
      },
      "execution_count": null,
      "outputs": [
        {
          "output_type": "stream",
          "name": "stderr",
          "text": [
            "100%|██████████| 157/157 [00:32<00:00,  4.80it/s]"
          ]
        },
        {
          "output_type": "stream",
          "name": "stdout",
          "text": [
            "Overall Test Accuracy: 82.90%\n",
            "\n",
            "Class-wise Accuracy:\n",
            "airplane: 85.80%\n",
            "automobile: 89.70%\n",
            "bird: 66.80%\n",
            "cat: 74.40%\n",
            "deer: 86.60%\n",
            "dog: 77.30%\n",
            "frog: 91.70%\n",
            "horse: 82.60%\n",
            "ship: 87.20%\n",
            "truck: 86.90%\n"
          ]
        },
        {
          "output_type": "stream",
          "name": "stderr",
          "text": [
            "\n"
          ]
        }
      ]
    },
    {
      "cell_type": "markdown",
      "source": [
        "## (参考) モデルの保存\n",
        "大規模モデルを転移学習するのに相応の時間を要する。再学習するのはコスト高であるため，通常，モデルを保存する。"
      ],
      "metadata": {
        "id": "9taCddyyYkqE"
      }
    },
    {
      "cell_type": "code",
      "execution_count": null,
      "metadata": {
        "colab": {
          "base_uri": "https://localhost:8080/"
        },
        "id": "_cgbbgv1c4ow",
        "outputId": "ae013f64-eb57-43df-9fe6-6c8c174459be"
      },
      "outputs": [
        {
          "output_type": "stream",
          "name": "stdout",
          "text": [
            "Model saved to resnet50_cifar10_transfer.pth\n"
          ]
        }
      ],
      "source": [
        "# モデルの保存\n",
        "def save_model(model, filepath):\n",
        "    torch.save(model.state_dict(), filepath)\n",
        "    print(f\"Model saved to {filepath}\")\n",
        "\n",
        "# モデルの保存\n",
        "save_model(model, 'resnet50_cifar10_transfer.pth')\n"
      ]
    },
    {
      "cell_type": "code",
      "source": [],
      "metadata": {
        "id": "8jz8ERuFc-sp"
      },
      "execution_count": null,
      "outputs": []
    }
  ]
}